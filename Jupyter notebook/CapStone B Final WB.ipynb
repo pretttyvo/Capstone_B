{
 "cells": [
  {
   "cell_type": "markdown",
   "metadata": {},
   "source": [
    "## Table of Contents\n",
    "---\n",
    "\n",
    "\n",
    "\n",
    "---"
   ]
  },
  {
   "cell_type": "markdown",
   "metadata": {},
   "source": [
    "### TASKS\n",
    "\n",
    "1. predicting stage (SVM, Decision Trees, novel model)\n",
    "2. determining if there is a correlation with the disease and any other characstic (SVM, Decision Trees, novel model)\n",
    "3. determining whether or not there is any genetic ties (neural networks, novel model) (add this in)\n",
    "4. determine what type of disease is?\n",
    "5. Target the same dataset as the related works. \n",
    "\n",
    "#### Walter\n",
    "- Neural Networks (parameter tuning + model + stats + feature reduction) EOW5\n",
    "- statistics/metrics (p-value, t-value, AUC) EOW7\n",
    "\n",
    "#### Kris\n",
    "- Decision Trees (parameter tuning + model + stats + feature reduction) EOW5\n",
    "- discussion EOW7\n",
    "- conclusion EOW7\n",
    "- updates to PPT EOW8 (Jamie will help)\n",
    "\n",
    "#### Thad\n",
    "- SVM (parameter tuning + model + stats + feature reduction) EOW5\n",
    "- rewrite of other papers EOW7\n",
    "- how this affects the community EOW7\n",
    "- tie back to other papers EOW7\n",
    "\n",
    "#### Jamie \n",
    "- intro EOW4\n",
    "- explaining data points EOW4\n",
    "- data manipulation (all data related tasks) (reduction method) (reach if needed) EOW3\n",
    "- enhance pre-processing (feature correlations)\n",
    "- visualizations of ML Models (TBD if we have time) very novel EOW\n",
    "- application build EOW8\n",
    "- create new ML model EOW5\n",
    "- just see if we can find antoher dataset\n",
    "- create a repo EOW3\n",
    "- one (minimum) paper for baseline (Walter/Thad will find 2-3 each) EOD Thursday \n",
    "\n",
    "\n",
    "\n",
    "## Primary Dataset\n",
    "---\n",
    "Cross, Simon S. \"Dataset of Observed Features on Endoscopic \n",
    "Colorectal Biopsies from Normal Subjects and Patients with Chronic \n",
    "Inflammatory Bowel Disease (Crohn’s disease and Ulcerative \n",
    "Colitis).\" Department of Pathology, University of Sheffield Medical \n",
    "School (1999): 1-15"
   ]
  },
  {
   "cell_type": "markdown",
   "metadata": {},
   "source": [
    "### Libraries\n",
    "---"
   ]
  },
  {
   "cell_type": "code",
   "execution_count": 1,
   "metadata": {},
   "outputs": [],
   "source": [
    "# general libraries\n",
    "import pandas as pd\n",
    "import numpy as np\n",
    "from collections import Counter\n",
    "import itertools"
   ]
  },
  {
   "cell_type": "code",
   "execution_count": 2,
   "metadata": {},
   "outputs": [],
   "source": [
    "# data cleaning libraries\n",
    "from imblearn.over_sampling import SMOTE"
   ]
  },
  {
   "cell_type": "code",
   "execution_count": 3,
   "metadata": {},
   "outputs": [],
   "source": [
    "# ML libraries\n",
    "from sklearn.model_selection import train_test_split"
   ]
  },
  {
   "cell_type": "code",
   "execution_count": 4,
   "metadata": {},
   "outputs": [],
   "source": [
    "# Visualization libraries\n",
    "import matplotlib.pyplot as plt\n",
    "import seaborn as sns"
   ]
  },
  {
   "cell_type": "markdown",
   "metadata": {},
   "source": [
    "## Data\n",
    "---"
   ]
  },
  {
   "cell_type": "markdown",
   "metadata": {},
   "source": [
    "### Pull in Data"
   ]
  },
  {
   "cell_type": "markdown",
   "metadata": {},
   "source": [
    "***ENDSC Data***"
   ]
  },
  {
   "cell_type": "code",
   "execution_count": 5,
   "metadata": {},
   "outputs": [],
   "source": [
    "# all cases\n",
    "all_cases = pd.read_excel(\"../Data/dataset/ENDOSC_1.xls\", sheet_name=\"All cases\")\n",
    "# cleaned cases\n",
    "cleaned_cases = pd.read_excel(\"../Data/dataset/ENDOSC_1_2_2.xls\", sheet_name=\"All IBD&normal\")\n",
    "cleaned_cases_og = cleaned_cases"
   ]
  },
  {
   "cell_type": "markdown",
   "metadata": {},
   "source": [
    "### Data Cleaning"
   ]
  },
  {
   "cell_type": "markdown",
   "metadata": {},
   "source": [
    "***Clean Diagnosis***:\n",
    "Strip data and Upper Case"
   ]
  },
  {
   "cell_type": "code",
   "execution_count": 6,
   "metadata": {},
   "outputs": [
    {
     "name": "stdout",
     "output_type": "stream",
     "text": [
      "['UC' 'Crohns' 'Normal' 'Uc' 'Normal ' 'Crohns ']\n",
      "['UC' 'CROHNS' 'NORMAL']\n"
     ]
    }
   ],
   "source": [
    "print(cleaned_cases['Confirmed diagnosis'].unique())\n",
    "cleaned_cases['Confirmed diagnosis'] = [c.strip().upper() for c in cleaned_cases['Confirmed diagnosis']]\n",
    "print( cleaned_cases['Confirmed diagnosis'].unique())"
   ]
  },
  {
   "cell_type": "code",
   "execution_count": 7,
   "metadata": {},
   "outputs": [
    {
     "data": {
      "text/plain": [
       "array(['Normal',\n",
       "       'Chronic idiopathic IBD - highly suggestive of ulcerative colitis',\n",
       "       'Inflammation - unclassified',\n",
       "       'Chronic idiopathic IBD - indeterminate',\n",
       "       \"Chronic idiopathic IBD - highly suggestive of Crohn's disease\",\n",
       "       \"Chronic idiopathic IBD - suggestive of Crohn's disease\",\n",
       "       'Chronic idiopathic IBD - suggestive of ulcerative colitis',\n",
       "       'Infective type colitis', 'Other colitis Lymphocytic colitis',\n",
       "       'Other colitis Melanosis coli'], dtype=object)"
      ]
     },
     "execution_count": 7,
     "metadata": {},
     "output_type": "execute_result"
    }
   ],
   "source": [
    "cleaned_cases['Observing pathologists diagnosis'].unique()"
   ]
  },
  {
   "cell_type": "code",
   "execution_count": null,
   "metadata": {},
   "outputs": [],
   "source": []
  },
  {
   "cell_type": "code",
   "execution_count": null,
   "metadata": {},
   "outputs": [],
   "source": []
  },
  {
   "cell_type": "code",
   "execution_count": null,
   "metadata": {},
   "outputs": [],
   "source": []
  },
  {
   "cell_type": "code",
   "execution_count": null,
   "metadata": {},
   "outputs": [],
   "source": []
  },
  {
   "cell_type": "markdown",
   "metadata": {},
   "source": [
    "### Data Manipulation"
   ]
  },
  {
   "cell_type": "markdown",
   "metadata": {},
   "source": [
    "***IBD Stages***: \n",
    "Since the stages of UC is determined by the severity of symptoms, the classes are manually added based on symptoms.\n",
    "\n",
    "Use decision trees to determine \n",
    "\n",
    "Perhaps find a doctor who can provide some expertise into the stages? - check if this is possible (we would need multiple people to have statistically significance)"
   ]
  },
  {
   "cell_type": "code",
   "execution_count": 8,
   "metadata": {},
   "outputs": [
    {
     "data": {
      "text/plain": [
       "Index(['Year', 'Lab No', 'Age', 'Sex', 'Active inflammation?',\n",
       "       'Mucosal surface', 'Crypt architecture', 'Crypt profiles',\n",
       "       'Increased lamina propria cellularity?',\n",
       "       'Mild & superficial increase in lamina propria cellularity?',\n",
       "       'Increased lymphoid aggregates in lamina propria?',\n",
       "       'Patchy lamina propria cellularity?',\n",
       "       'Marked & transmucosal increase in lamina propria cellularity',\n",
       "       'Cryptitis extent', 'Cryptitis polymorphs', 'Crypt abscesses extent',\n",
       "       'Crypt abscesses polymorphs', 'Lamina propria polymorphs',\n",
       "       'Epithelial changes', 'Mucin depletion', 'Intraepithelial lymphocytes',\n",
       "       'Subepithelial collagen', 'Lamina propria granulomas',\n",
       "       'Submucosal granulomas', 'Basal histiocytic cells',\n",
       "       'Confirmed diagnosis', 'Method of confirmation',\n",
       "       'Initial pathologists diagnosis', 'Observing pathologists diagnosis'],\n",
       "      dtype='object')"
      ]
     },
     "execution_count": 8,
     "metadata": {},
     "output_type": "execute_result"
    }
   ],
   "source": [
    "cleaned_cases.columns"
   ]
  },
  {
   "cell_type": "code",
   "execution_count": null,
   "metadata": {},
   "outputs": [],
   "source": []
  },
  {
   "cell_type": "code",
   "execution_count": null,
   "metadata": {},
   "outputs": [],
   "source": []
  },
  {
   "cell_type": "markdown",
   "metadata": {},
   "source": [
    "<h2>Train Test Split</h2>\n",
    "Cross and coworkers randomly shuffled the dataset and split the first 540 cases as the train set and the lasts 269 cases as the test set.\n"
   ]
  },
  {
   "cell_type": "code",
   "execution_count": 9,
   "metadata": {
    "scrolled": true
   },
   "outputs": [
    {
     "name": "stdout",
     "output_type": "stream",
     "text": [
      "Train set has 540 rows and test set has 269 rows\n"
     ]
    }
   ],
   "source": [
    "X = cleaned_cases.drop('Confirmed diagnosis',axis=1)\n",
    "y = cleaned_cases['Confirmed diagnosis']\n",
    "X_train,X_test,y_train,y_test = train_test_split(X,y,test_size=269, random_state=123)\n",
    "print(f'Train set has {X_train.shape[0]} rows and test set has {X_test.shape[0]} rows')"
   ]
  },
  {
   "cell_type": "markdown",
   "metadata": {},
   "source": [
    "<h2>Class Imbalance</h2>\n",
    "The minority class of heatlhy was oversampled so that there were equal diseased as unhealthy classes"
   ]
  },
  {
   "cell_type": "code",
   "execution_count": 10,
   "metadata": {},
   "outputs": [
    {
     "data": {
      "text/plain": [
       "Counter({'UC': 305, 'CROHNS': 117, 'NORMAL': 118})"
      ]
     },
     "execution_count": 10,
     "metadata": {},
     "output_type": "execute_result"
    }
   ],
   "source": [
    "Counter(y_train)"
   ]
  },
  {
   "cell_type": "markdown",
   "metadata": {},
   "source": [
    "***IBD Genetics Data***: While genetics data is not present, there are general genetics data that can be pulled in as supplementary for analysis"
   ]
  },
  {
   "cell_type": "code",
   "execution_count": null,
   "metadata": {},
   "outputs": [],
   "source": []
  },
  {
   "cell_type": "code",
   "execution_count": null,
   "metadata": {},
   "outputs": [],
   "source": []
  },
  {
   "cell_type": "code",
   "execution_count": null,
   "metadata": {},
   "outputs": [],
   "source": []
  },
  {
   "cell_type": "code",
   "execution_count": null,
   "metadata": {},
   "outputs": [],
   "source": []
  },
  {
   "cell_type": "markdown",
   "metadata": {},
   "source": [
    "### Feature Reduction"
   ]
  },
  {
   "cell_type": "code",
   "execution_count": null,
   "metadata": {},
   "outputs": [],
   "source": []
  },
  {
   "cell_type": "code",
   "execution_count": null,
   "metadata": {},
   "outputs": [],
   "source": []
  },
  {
   "cell_type": "code",
   "execution_count": null,
   "metadata": {},
   "outputs": [],
   "source": []
  },
  {
   "cell_type": "code",
   "execution_count": null,
   "metadata": {},
   "outputs": [],
   "source": []
  },
  {
   "cell_type": "code",
   "execution_count": null,
   "metadata": {},
   "outputs": [],
   "source": []
  },
  {
   "cell_type": "code",
   "execution_count": null,
   "metadata": {},
   "outputs": [],
   "source": []
  },
  {
   "cell_type": "code",
   "execution_count": null,
   "metadata": {},
   "outputs": [],
   "source": []
  },
  {
   "cell_type": "code",
   "execution_count": null,
   "metadata": {},
   "outputs": [],
   "source": []
  },
  {
   "cell_type": "markdown",
   "metadata": {},
   "source": [
    "<h3>EDA</h3>\n",
    "Each column in the dataset is a symptom.  SOme of the symptoms are rankings.  When the column for Subepithelial collagen is 1 it means that the patient had that symptom and when it is 0 it means the patient did not have that symptom.  "
   ]
  },
  {
   "cell_type": "code",
   "execution_count": 11,
   "metadata": {},
   "outputs": [
    {
     "data": {
      "text/html": [
       "<div>\n",
       "<style scoped>\n",
       "    .dataframe tbody tr th:only-of-type {\n",
       "        vertical-align: middle;\n",
       "    }\n",
       "\n",
       "    .dataframe tbody tr th {\n",
       "        vertical-align: top;\n",
       "    }\n",
       "\n",
       "    .dataframe thead th {\n",
       "        text-align: right;\n",
       "    }\n",
       "</style>\n",
       "<table border=\"1\" class=\"dataframe\">\n",
       "  <thead>\n",
       "    <tr style=\"text-align: right;\">\n",
       "      <th></th>\n",
       "      <th>Year</th>\n",
       "      <th>Lab No</th>\n",
       "      <th>Age</th>\n",
       "      <th>Sex</th>\n",
       "      <th>Active inflammation?</th>\n",
       "      <th>Mucosal surface</th>\n",
       "      <th>Crypt architecture</th>\n",
       "      <th>Crypt profiles</th>\n",
       "      <th>Increased lamina propria cellularity?</th>\n",
       "      <th>Mild &amp; superficial increase in lamina propria cellularity?</th>\n",
       "      <th>...</th>\n",
       "      <th>Mucin depletion</th>\n",
       "      <th>Intraepithelial lymphocytes</th>\n",
       "      <th>Subepithelial collagen</th>\n",
       "      <th>Lamina propria granulomas</th>\n",
       "      <th>Submucosal granulomas</th>\n",
       "      <th>Basal histiocytic cells</th>\n",
       "      <th>Method of confirmation</th>\n",
       "      <th>Initial pathologists diagnosis</th>\n",
       "      <th>Observing pathologists diagnosis</th>\n",
       "      <th>Confirmed diagnosis</th>\n",
       "    </tr>\n",
       "  </thead>\n",
       "  <tbody>\n",
       "    <tr>\n",
       "      <th>66</th>\n",
       "      <td>96</td>\n",
       "      <td>4936</td>\n",
       "      <td>33.000000</td>\n",
       "      <td>0</td>\n",
       "      <td>0</td>\n",
       "      <td>0</td>\n",
       "      <td>0</td>\n",
       "      <td>7</td>\n",
       "      <td>0</td>\n",
       "      <td>0</td>\n",
       "      <td>...</td>\n",
       "      <td>0</td>\n",
       "      <td>0</td>\n",
       "      <td>0</td>\n",
       "      <td>0</td>\n",
       "      <td>0</td>\n",
       "      <td>0</td>\n",
       "      <td>Endoscopy</td>\n",
       "      <td>UC</td>\n",
       "      <td>Normal</td>\n",
       "      <td>UC</td>\n",
       "    </tr>\n",
       "    <tr>\n",
       "      <th>190</th>\n",
       "      <td>90</td>\n",
       "      <td>8052</td>\n",
       "      <td>43.000000</td>\n",
       "      <td>1</td>\n",
       "      <td>0</td>\n",
       "      <td>0</td>\n",
       "      <td>2</td>\n",
       "      <td>7</td>\n",
       "      <td>1</td>\n",
       "      <td>0</td>\n",
       "      <td>...</td>\n",
       "      <td>0</td>\n",
       "      <td>0</td>\n",
       "      <td>0</td>\n",
       "      <td>0</td>\n",
       "      <td>0</td>\n",
       "      <td>0</td>\n",
       "      <td>Endoscopy</td>\n",
       "      <td>IBD indeterminate, quiescent</td>\n",
       "      <td>Chronic idiopathic IBD - indeterminate</td>\n",
       "      <td>CROHNS</td>\n",
       "    </tr>\n",
       "    <tr>\n",
       "      <th>84</th>\n",
       "      <td>90</td>\n",
       "      <td>334</td>\n",
       "      <td>42.665753</td>\n",
       "      <td>0</td>\n",
       "      <td>0</td>\n",
       "      <td>0</td>\n",
       "      <td>0</td>\n",
       "      <td>7</td>\n",
       "      <td>0</td>\n",
       "      <td>0</td>\n",
       "      <td>...</td>\n",
       "      <td>0</td>\n",
       "      <td>0</td>\n",
       "      <td>0</td>\n",
       "      <td>0</td>\n",
       "      <td>0</td>\n",
       "      <td>0</td>\n",
       "      <td>Endoscopy</td>\n",
       "      <td>Normal</td>\n",
       "      <td>Normal</td>\n",
       "      <td>CROHNS</td>\n",
       "    </tr>\n",
       "    <tr>\n",
       "      <th>242</th>\n",
       "      <td>90</td>\n",
       "      <td>11734</td>\n",
       "      <td>73.000000</td>\n",
       "      <td>0</td>\n",
       "      <td>1</td>\n",
       "      <td>0</td>\n",
       "      <td>0</td>\n",
       "      <td>7</td>\n",
       "      <td>1</td>\n",
       "      <td>0</td>\n",
       "      <td>...</td>\n",
       "      <td>0</td>\n",
       "      <td>0</td>\n",
       "      <td>0</td>\n",
       "      <td>0</td>\n",
       "      <td>1</td>\n",
       "      <td>0</td>\n",
       "      <td>Endoscopy</td>\n",
       "      <td>Crohns</td>\n",
       "      <td>Chronic idiopathic IBD - highly suggestive of ...</td>\n",
       "      <td>CROHNS</td>\n",
       "    </tr>\n",
       "    <tr>\n",
       "      <th>155</th>\n",
       "      <td>95</td>\n",
       "      <td>17143</td>\n",
       "      <td>31.000000</td>\n",
       "      <td>0</td>\n",
       "      <td>0</td>\n",
       "      <td>0</td>\n",
       "      <td>0</td>\n",
       "      <td>7</td>\n",
       "      <td>0</td>\n",
       "      <td>0</td>\n",
       "      <td>...</td>\n",
       "      <td>0</td>\n",
       "      <td>0</td>\n",
       "      <td>0</td>\n",
       "      <td>0</td>\n",
       "      <td>0</td>\n",
       "      <td>0</td>\n",
       "      <td>Endoscopy</td>\n",
       "      <td>IBD indeterminate, quiscent</td>\n",
       "      <td>Normal</td>\n",
       "      <td>NORMAL</td>\n",
       "    </tr>\n",
       "  </tbody>\n",
       "</table>\n",
       "<p>5 rows × 29 columns</p>\n",
       "</div>"
      ],
      "text/plain": [
       "     Year  Lab No        Age  Sex  Active inflammation?  Mucosal surface  \\\n",
       "66     96    4936  33.000000    0                     0                0   \n",
       "190    90    8052  43.000000    1                     0                0   \n",
       "84     90     334  42.665753    0                     0                0   \n",
       "242    90   11734  73.000000    0                     1                0   \n",
       "155    95   17143  31.000000    0                     0                0   \n",
       "\n",
       "     Crypt architecture  Crypt profiles  \\\n",
       "66                    0               7   \n",
       "190                   2               7   \n",
       "84                    0               7   \n",
       "242                   0               7   \n",
       "155                   0               7   \n",
       "\n",
       "     Increased lamina propria cellularity?  \\\n",
       "66                                       0   \n",
       "190                                      1   \n",
       "84                                       0   \n",
       "242                                      1   \n",
       "155                                      0   \n",
       "\n",
       "     Mild & superficial increase in lamina propria cellularity?  ...  \\\n",
       "66                                                   0           ...   \n",
       "190                                                  0           ...   \n",
       "84                                                   0           ...   \n",
       "242                                                  0           ...   \n",
       "155                                                  0           ...   \n",
       "\n",
       "     Mucin depletion  Intraepithelial lymphocytes  Subepithelial collagen  \\\n",
       "66                 0                            0                       0   \n",
       "190                0                            0                       0   \n",
       "84                 0                            0                       0   \n",
       "242                0                            0                       0   \n",
       "155                0                            0                       0   \n",
       "\n",
       "     Lamina propria granulomas  Submucosal granulomas  \\\n",
       "66                           0                      0   \n",
       "190                          0                      0   \n",
       "84                           0                      0   \n",
       "242                          0                      1   \n",
       "155                          0                      0   \n",
       "\n",
       "     Basal histiocytic cells  Method of confirmation  \\\n",
       "66                         0               Endoscopy   \n",
       "190                        0               Endoscopy   \n",
       "84                         0               Endoscopy   \n",
       "242                        0               Endoscopy   \n",
       "155                        0               Endoscopy   \n",
       "\n",
       "     Initial pathologists diagnosis  \\\n",
       "66                               UC   \n",
       "190    IBD indeterminate, quiescent   \n",
       "84                           Normal   \n",
       "242                          Crohns   \n",
       "155     IBD indeterminate, quiscent   \n",
       "\n",
       "                      Observing pathologists diagnosis  Confirmed diagnosis  \n",
       "66                                              Normal                   UC  \n",
       "190             Chronic idiopathic IBD - indeterminate               CROHNS  \n",
       "84                                              Normal               CROHNS  \n",
       "242  Chronic idiopathic IBD - highly suggestive of ...               CROHNS  \n",
       "155                                             Normal               NORMAL  \n",
       "\n",
       "[5 rows x 29 columns]"
      ]
     },
     "execution_count": 11,
     "metadata": {},
     "output_type": "execute_result"
    }
   ],
   "source": [
    "train = pd.concat([X_train,y_train],axis=1)\n",
    "train.head()"
   ]
  },
  {
   "cell_type": "markdown",
   "metadata": {},
   "source": [
    "<h3>Supervised Learning</h3>"
   ]
  },
  {
   "cell_type": "markdown",
   "metadata": {},
   "source": [
    "Get only the binary variables"
   ]
  },
  {
   "cell_type": "code",
   "execution_count": 12,
   "metadata": {},
   "outputs": [
    {
     "data": {
      "text/plain": [
       "['Basal histiocytic cells',\n",
       " 'Patchy lamina propria cellularity?',\n",
       " 'Subepithelial collagen',\n",
       " 'Marked & transmucosal increase in lamina propria cellularity',\n",
       " 'Increased lymphoid aggregates in lamina propria?',\n",
       " 'Increased lamina propria cellularity?',\n",
       " 'Mild & superficial increase in lamina propria cellularity?',\n",
       " 'Lamina propria granulomas',\n",
       " 'Submucosal granulomas',\n",
       " 'Sex',\n",
       " 'Intraepithelial lymphocytes']"
      ]
     },
     "execution_count": 12,
     "metadata": {},
     "output_type": "execute_result"
    }
   ],
   "source": [
    "binary_vars = X_train.columns[X_train.apply(lambda series: False if set(series)-{0,1} else True)]\n",
    "binary_vars = list(set(binary_vars) - set(['Active inflammation?']))\n",
    "binary_vars"
   ]
  },
  {
   "cell_type": "markdown",
   "metadata": {},
   "source": [
    "Calculate the relative risk ratio of having IBD if patient has or doesnt have Patchy lamina propria cellularity"
   ]
  },
  {
   "cell_type": "code",
   "execution_count": 13,
   "metadata": {},
   "outputs": [
    {
     "name": "stdout",
     "output_type": "stream",
     "text": [
      "Patchy lamina propria cellularity?  Confirmed diagnosis\n",
      "0                                   CROHNS                  82\n",
      "                                    NORMAL                 114\n",
      "                                    UC                     257\n",
      "1                                   CROHNS                  35\n",
      "                                    NORMAL                   4\n",
      "                                    UC                      48\n",
      "dtype: int64\n",
      "Patchy lamina propria cellularity?\n",
      "0    453\n",
      "1     87\n",
      "dtype: int64\n"
     ]
    }
   ],
   "source": [
    "patchyVsIbd   = train.groupby(['Patchy lamina propria cellularity?','Confirmed diagnosis']).size()\n",
    "patchySummary = X_train.groupby('Patchy lamina propria cellularity?').size()\n",
    "print(patchyVsIbd)\n",
    "print(patchySummary)"
   ]
  },
  {
   "cell_type": "markdown",
   "metadata": {},
   "source": [
    "What proportion of those with patchy lamina propria had Crohn's Disease?"
   ]
  },
  {
   "cell_type": "code",
   "execution_count": 14,
   "metadata": {},
   "outputs": [
    {
     "data": {
      "text/plain": [
       "Patchy lamina propria cellularity?  Confirmed diagnosis\n",
       "0                                   CROHNS                 0.181015\n",
       "                                    NORMAL                 0.251656\n",
       "                                    UC                     0.567329\n",
       "1                                   CROHNS                 0.402299\n",
       "                                    NORMAL                 0.045977\n",
       "                                    UC                     0.551724\n",
       "dtype: float64"
      ]
     },
     "execution_count": 14,
     "metadata": {},
     "output_type": "execute_result"
    }
   ],
   "source": [
    "proportions = patchyVsIbd/patchySummary\n",
    "proportions"
   ]
  },
  {
   "cell_type": "markdown",
   "metadata": {},
   "source": [
    "How much more chance of getting Crohn's disease if you have patchy lamina propria cellularity VS if you dont have patch lamina prpria cellularity?"
   ]
  },
  {
   "cell_type": "code",
   "execution_count": 15,
   "metadata": {},
   "outputs": [
    {
     "data": {
      "text/plain": [
       "Confirmed diagnosis\n",
       "CROHNS    2.222456\n",
       "NORMAL    0.182698\n",
       "UC        0.972494\n",
       "dtype: float64"
      ]
     },
     "execution_count": 15,
     "metadata": {},
     "output_type": "execute_result"
    }
   ],
   "source": [
    "proportions.loc[1]/proportions.loc[0]"
   ]
  },
  {
   "cell_type": "markdown",
   "metadata": {},
   "source": [
    "Observe above that the probabilit of getting Crohn's is twice as much if you have patchy lamina propria cellularity VS if you dont have patchy lamina."
   ]
  },
  {
   "cell_type": "markdown",
   "metadata": {},
   "source": [
    "Determine relative risk of Crohn's or UC for all the symptoms<br>\n",
    "Calculation will require creating 3 tables:\n",
    "<ol>\n",
    "    <li>Symptom, Is Symptom Present, Confirmed Diagnosis, Count</li>\n",
    "    <li>Symptom, Is Symptom Present, Count</li>\n",
    "    <li>Symptom, Is Symptom Present, Confirmed Diagnosis, Proportion</li>\n",
    "    <li>Symptom, Confirmed Diagnosis, Relative Risk (Final Table)</li>\n",
    "</ol>"
   ]
  },
  {
   "cell_type": "code",
   "execution_count": 16,
   "metadata": {},
   "outputs": [
    {
     "data": {
      "text/plain": [
       "variable                 value  Confirmed diagnosis\n",
       "Basal histiocytic cells  0      CROHNS                 113\n",
       "                                NORMAL                 117\n",
       "                                UC                     291\n",
       "                         1      CROHNS                   4\n",
       "                                NORMAL                   1\n",
       "dtype: int64"
      ]
     },
     "execution_count": 16,
     "metadata": {},
     "output_type": "execute_result"
    }
   ],
   "source": [
    "#1.Symptom, Is Symptom Present, Confirmed Diagnosis, Count\n",
    "#Column, Value, Value for Diagnosis Column\n",
    "binaryTrain = train[binary_vars+['Confirmed diagnosis']]\n",
    "symptomDiagnosis = binaryTrain.reset_index().melt(id_vars=['index','Confirmed diagnosis'])\n",
    "#Column, Value, Value for Diagnosis Column, Count\n",
    "diseaseCountPerSymptom = symptomDiagnosis.groupby(['variable','value','Confirmed diagnosis']).size()\n",
    "diseaseCountPerSymptom.head()"
   ]
  },
  {
   "cell_type": "code",
   "execution_count": 17,
   "metadata": {},
   "outputs": [
    {
     "data": {
      "text/plain": [
       "variable                                          value\n",
       "Basal histiocytic cells                           0        521\n",
       "                                                  1         19\n",
       "Increased lamina propria cellularity?             0        216\n",
       "                                                  1        324\n",
       "Increased lymphoid aggregates in lamina propria?  0        453\n",
       "dtype: int64"
      ]
     },
     "execution_count": 17,
     "metadata": {},
     "output_type": "execute_result"
    }
   ],
   "source": [
    "#2.Symptom, Is Symptom Present, Count\n",
    "countPerSymptom = symptomDiagnosis.groupby(['variable','value']).size()\n",
    "countPerSymptom.head()"
   ]
  },
  {
   "cell_type": "code",
   "execution_count": 18,
   "metadata": {},
   "outputs": [
    {
     "data": {
      "text/plain": [
       "variable                 value  Confirmed diagnosis\n",
       "Basal histiocytic cells  0      CROHNS                 0.216891\n",
       "                                NORMAL                 0.224568\n",
       "                                UC                     0.558541\n",
       "                         1      CROHNS                 0.210526\n",
       "                                NORMAL                 0.052632\n",
       "dtype: float64"
      ]
     },
     "execution_count": 18,
     "metadata": {},
     "output_type": "execute_result"
    }
   ],
   "source": [
    "#3. Symptom, Is Symptom Present, Confirmed Diagnosis, Proportion\n",
    "proportionIbdPerSymptom = diseaseCountPerSymptom/countPerSymptom\n",
    "proportionIbdPerSymptom.head()"
   ]
  },
  {
   "cell_type": "code",
   "execution_count": 19,
   "metadata": {},
   "outputs": [
    {
     "data": {
      "text/html": [
       "<div>\n",
       "<style scoped>\n",
       "    .dataframe tbody tr th:only-of-type {\n",
       "        vertical-align: middle;\n",
       "    }\n",
       "\n",
       "    .dataframe tbody tr th {\n",
       "        vertical-align: top;\n",
       "    }\n",
       "\n",
       "    .dataframe thead th {\n",
       "        text-align: right;\n",
       "    }\n",
       "</style>\n",
       "<table border=\"1\" class=\"dataframe\">\n",
       "  <thead>\n",
       "    <tr style=\"text-align: right;\">\n",
       "      <th></th>\n",
       "      <th></th>\n",
       "      <th>0</th>\n",
       "    </tr>\n",
       "    <tr>\n",
       "      <th>variable</th>\n",
       "      <th>Confirmed diagnosis</th>\n",
       "      <th></th>\n",
       "    </tr>\n",
       "  </thead>\n",
       "  <tbody>\n",
       "    <tr>\n",
       "      <th rowspan=\"3\" valign=\"top\">Basal histiocytic cells</th>\n",
       "      <th>CROHNS</th>\n",
       "      <td>0.210526</td>\n",
       "    </tr>\n",
       "    <tr>\n",
       "      <th>NORMAL</th>\n",
       "      <td>0.052632</td>\n",
       "    </tr>\n",
       "    <tr>\n",
       "      <th>UC</th>\n",
       "      <td>0.736842</td>\n",
       "    </tr>\n",
       "    <tr>\n",
       "      <th rowspan=\"2\" valign=\"top\">Increased lamina propria cellularity?</th>\n",
       "      <th>CROHNS</th>\n",
       "      <td>0.225309</td>\n",
       "    </tr>\n",
       "    <tr>\n",
       "      <th>NORMAL</th>\n",
       "      <td>0.046296</td>\n",
       "    </tr>\n",
       "  </tbody>\n",
       "</table>\n",
       "</div>"
      ],
      "text/plain": [
       "                                                                  0\n",
       "variable                              Confirmed diagnosis          \n",
       "Basal histiocytic cells               CROHNS               0.210526\n",
       "                                      NORMAL               0.052632\n",
       "                                      UC                   0.736842\n",
       "Increased lamina propria cellularity? CROHNS               0.225309\n",
       "                                      NORMAL               0.046296"
      ]
     },
     "execution_count": 19,
     "metadata": {},
     "output_type": "execute_result"
    }
   ],
   "source": [
    "#4.Symptom, Confirmed Diagnosis, Relative Risk (Final Table)\n",
    "propDf = proportionIbdPerSymptom.reset_index()\n",
    "noSymptom  = propDf.loc[propDf['value']==0].drop('value',axis=1).set_index(['variable','Confirmed diagnosis'])\n",
    "yesSymptom = propDf.loc[propDf['value']==1].drop('value',axis=1).set_index(['variable','Confirmed diagnosis'])\n",
    "\n",
    "'''\n",
    "Some symptoms such as Submucosal granulomas are only present in Crohn's pateints. this means there is no \n",
    "patient who has both submucosal granuloma and UC.  So the risk of having UC given u have submcuoal granulomas\n",
    "is 0.  But currently in the yesSymptom df, the row Submucosal granulom and UC does not even exist.  So if that row \n",
    "is missing just add a row with 0\n",
    "'''  \n",
    "noSymptom = noSymptom.reset_index()\n",
    "varDxCombos= list(itertools.product(set(noSymptom['variable']),set(noSymptom['Confirmed diagnosis'])))\n",
    "allCombos  = pd.DataFrame(index=pd.MultiIndex.from_tuples(varDxCombos)) \n",
    "allCombos.index.names = ['variable','Confirmed diagnosis']\n",
    "noSymptom  = noSymptom.set_index(['variable','Confirmed diagnosis'])\n",
    "yesSymptom = pd.merge(yesSymptom, allCombos, left_index=True, right_index=True, how='outer').fillna({0:0})\n",
    "yesSymptom.head()"
   ]
  },
  {
   "cell_type": "markdown",
   "metadata": {},
   "source": [
    "Out of all the people that had Increased lamina propria cellularity, what percent of them had Crohn's disase?<br>\n",
    "In below table see that 22.5% of patients with Increased lamina propria cellularity had Crohn's disease."
   ]
  },
  {
   "cell_type": "markdown",
   "metadata": {},
   "source": [
    "Out of all the people that did NOT have Increase lamina propria cellularity, how many had Crohn's disease?"
   ]
  },
  {
   "cell_type": "code",
   "execution_count": 20,
   "metadata": {
    "scrolled": true
   },
   "outputs": [
    {
     "data": {
      "text/html": [
       "<div>\n",
       "<style scoped>\n",
       "    .dataframe tbody tr th:only-of-type {\n",
       "        vertical-align: middle;\n",
       "    }\n",
       "\n",
       "    .dataframe tbody tr th {\n",
       "        vertical-align: top;\n",
       "    }\n",
       "\n",
       "    .dataframe thead th {\n",
       "        text-align: right;\n",
       "    }\n",
       "</style>\n",
       "<table border=\"1\" class=\"dataframe\">\n",
       "  <thead>\n",
       "    <tr style=\"text-align: right;\">\n",
       "      <th></th>\n",
       "      <th></th>\n",
       "      <th>0</th>\n",
       "    </tr>\n",
       "    <tr>\n",
       "      <th>variable</th>\n",
       "      <th>Confirmed diagnosis</th>\n",
       "      <th></th>\n",
       "    </tr>\n",
       "  </thead>\n",
       "  <tbody>\n",
       "    <tr>\n",
       "      <th rowspan=\"3\" valign=\"top\">Basal histiocytic cells</th>\n",
       "      <th>CROHNS</th>\n",
       "      <td>0.216891</td>\n",
       "    </tr>\n",
       "    <tr>\n",
       "      <th>NORMAL</th>\n",
       "      <td>0.224568</td>\n",
       "    </tr>\n",
       "    <tr>\n",
       "      <th>UC</th>\n",
       "      <td>0.558541</td>\n",
       "    </tr>\n",
       "    <tr>\n",
       "      <th rowspan=\"2\" valign=\"top\">Increased lamina propria cellularity?</th>\n",
       "      <th>CROHNS</th>\n",
       "      <td>0.203704</td>\n",
       "    </tr>\n",
       "    <tr>\n",
       "      <th>NORMAL</th>\n",
       "      <td>0.476852</td>\n",
       "    </tr>\n",
       "  </tbody>\n",
       "</table>\n",
       "</div>"
      ],
      "text/plain": [
       "                                                                  0\n",
       "variable                              Confirmed diagnosis          \n",
       "Basal histiocytic cells               CROHNS               0.216891\n",
       "                                      NORMAL               0.224568\n",
       "                                      UC                   0.558541\n",
       "Increased lamina propria cellularity? CROHNS               0.203704\n",
       "                                      NORMAL               0.476852"
      ]
     },
     "execution_count": 20,
     "metadata": {},
     "output_type": "execute_result"
    }
   ],
   "source": [
    "noSymptom = pd.merge(noSymptom, allCombos, left_index=True, right_index=True, how='outer').fillna({0:0})\n",
    "noSymptom.head()"
   ]
  },
  {
   "cell_type": "markdown",
   "metadata": {},
   "source": [
    "You have two people, one with increased lamina propria cellularity and the other one without increased lamina propria cellularity.  How much more likely is the first person to have Crohn's disease compared to the second?"
   ]
  },
  {
   "cell_type": "markdown",
   "metadata": {},
   "source": [
    "You have two people, one with increased lamina propria cellularity and the other one without increased lamina propria cellularity.  How much more likely is the first person to have Crohn's disease compared to the second?"
   ]
  },
  {
   "cell_type": "code",
   "execution_count": 21,
   "metadata": {},
   "outputs": [
    {
     "data": {
      "text/html": [
       "<div>\n",
       "<style scoped>\n",
       "    .dataframe tbody tr th:only-of-type {\n",
       "        vertical-align: middle;\n",
       "    }\n",
       "\n",
       "    .dataframe tbody tr th {\n",
       "        vertical-align: top;\n",
       "    }\n",
       "\n",
       "    .dataframe thead th {\n",
       "        text-align: right;\n",
       "    }\n",
       "</style>\n",
       "<table border=\"1\" class=\"dataframe\">\n",
       "  <thead>\n",
       "    <tr style=\"text-align: right;\">\n",
       "      <th></th>\n",
       "      <th>variable</th>\n",
       "      <th>Confirmed diagnosis</th>\n",
       "      <th>0</th>\n",
       "    </tr>\n",
       "  </thead>\n",
       "  <tbody>\n",
       "    <tr>\n",
       "      <th>0</th>\n",
       "      <td>Basal histiocytic cells</td>\n",
       "      <td>CROHNS</td>\n",
       "      <td>0.970657</td>\n",
       "    </tr>\n",
       "    <tr>\n",
       "      <th>1</th>\n",
       "      <td>Basal histiocytic cells</td>\n",
       "      <td>NORMAL</td>\n",
       "      <td>0.234368</td>\n",
       "    </tr>\n",
       "    <tr>\n",
       "      <th>2</th>\n",
       "      <td>Basal histiocytic cells</td>\n",
       "      <td>UC</td>\n",
       "      <td>1.319226</td>\n",
       "    </tr>\n",
       "    <tr>\n",
       "      <th>3</th>\n",
       "      <td>Increased lamina propria cellularity?</td>\n",
       "      <td>CROHNS</td>\n",
       "      <td>1.106061</td>\n",
       "    </tr>\n",
       "    <tr>\n",
       "      <th>4</th>\n",
       "      <td>Increased lamina propria cellularity?</td>\n",
       "      <td>NORMAL</td>\n",
       "      <td>0.097087</td>\n",
       "    </tr>\n",
       "  </tbody>\n",
       "</table>\n",
       "</div>"
      ],
      "text/plain": [
       "                                variable Confirmed diagnosis         0\n",
       "0                Basal histiocytic cells              CROHNS  0.970657\n",
       "1                Basal histiocytic cells              NORMAL  0.234368\n",
       "2                Basal histiocytic cells                  UC  1.319226\n",
       "3  Increased lamina propria cellularity?              CROHNS  1.106061\n",
       "4  Increased lamina propria cellularity?              NORMAL  0.097087"
      ]
     },
     "execution_count": 21,
     "metadata": {},
     "output_type": "execute_result"
    }
   ],
   "source": [
    "relativeRiskIbd = (yesSymptom/noSymptom).reset_index()\n",
    "relativeRiskIbd.head()"
   ]
  },
  {
   "cell_type": "code",
   "execution_count": 22,
   "metadata": {
    "scrolled": true
   },
   "outputs": [
    {
     "data": {
      "text/plain": [
       "[Text(0.5, 1.0, 'Normal')]"
      ]
     },
     "execution_count": 22,
     "metadata": {},
     "output_type": "execute_result"
    },
    {
     "data": {
      "image/png": "[encoded data removed]",
      "text/plain": [
       "<Figure size 432x288 with 3 Axes>"
      ]
     },
     "metadata": {
      "needs_background": "light"
     },
     "output_type": "display_data"
    }
   ],
   "source": [
    "fig,ax = plt.subplots(nrows=1,ncols=3, sharey=True)\n",
    "crohns = relativeRiskIbd[relativeRiskIbd['Confirmed diagnosis']=='CROHNS']\n",
    "uc     = relativeRiskIbd[relativeRiskIbd['Confirmed diagnosis']=='UC']\n",
    "normal = relativeRiskIbd[relativeRiskIbd['Confirmed diagnosis']=='NORMAL']\n",
    "ax[0].barh(crohns['variable'],crohns[0])\n",
    "ax[0].set(title='Crohns',\n",
    "         ylabel='SYMPTOMS')\n",
    "ax[1].barh(uc['variable'],uc[0])\n",
    "ax[1].set(title='UC',xlabel='Relative Risk of Diagnosis Given That Patient has this Symptom',)\n",
    "ax[2].barh(normal['variable'],normal[0])\n",
    "ax[2].set(title='Normal')"
   ]
  },
  {
   "cell_type": "markdown",
   "metadata": {},
   "source": [
    "For unsupervised EDA, The objective is to find multiple symptoms that are all 1 for the same patients and are all 0 for other patients.  "
   ]
  },
  {
   "cell_type": "markdown",
   "metadata": {},
   "source": [
    "<ol>\n",
    "    <li>First, manually calculate the risk ratio between Symptom A and Symptom B</li>\n",
    "    <li>Next, create a cross tab where the row is Symptom A, the column is Symptom B and the cell value is the risk ratio of Symptom B / Symptom A</li>\n",
    "    <li>Finally, find the groups of symptoms that have highest risk ratios for one another.  If 3 columns have high relative risk ratios, consider keeping only one of those columns and dropping the other 2</li>\n",
    "</ol>"
   ]
  },
  {
   "cell_type": "markdown",
   "metadata": {},
   "source": [
    "<h4>Risk Ratio</h4>\n",
    "What is the risk of getting \"Increased lamina propria cellularity\" if you do have \"Lamina propria granulomas\" versus the risk of getting \"Increased lamina propria cellularity\" if you do not have \"Lamina propria granulomas\"?<br><br>\n",
    "\n",
    "If two symptoms are both positive in 1000 patients.  And in another 1000 patients the two symptoms are negative.  This would indicate correlation between those 2 symptoms."
   ]
  },
  {
   "cell_type": "code",
   "execution_count": 23,
   "metadata": {},
   "outputs": [
    {
     "data": {
      "text/plain": [
       "1.5591715976331362"
      ]
     },
     "execution_count": 23,
     "metadata": {},
     "output_type": "execute_result"
    }
   ],
   "source": [
    "exposure = 'Lamina propria granulomas'\n",
    "disease  = 'Increased lamina propria cellularity?'\n",
    "risks = X_train.groupby([exposure,disease]\n",
    "               ).size()/X_train.groupby([exposure]).size()\n",
    "risks = risks.reset_index()\n",
    "riskGivenNoExposure = risks.loc[(risks[exposure] == 0)&\n",
    "                              (risks[disease] == 1),0].values[0]\n",
    "riskGivenExposure   = risks.loc[(risks[exposure] == 1)&\n",
    "                              (risks[disease] == 1),0].values[0]\n",
    "riskGivenExposure/riskGivenNoExposure"
   ]
  },
  {
   "cell_type": "markdown",
   "metadata": {},
   "source": [
    "Get the cross tab of every symptom with every other symptom"
   ]
  },
  {
   "cell_type": "code",
   "execution_count": 24,
   "metadata": {},
   "outputs": [],
   "source": [
    "def multicolumn_crosstab(df,cols):\n",
    "    cols=sorted(cols)\n",
    "    dummies = pd.get_dummies(df[cols])\n",
    "    dfWithDummies = pd.concat([df,dummies],axis=1)\n",
    "    dfWithDummies = dfWithDummies.reset_index()\n",
    "    dfMelt = dfWithDummies.melt(id_vars=np.concatenate([np.array(['index']),dummies.columns.values]),\n",
    "                      value_vars=cols)\n",
    "    dfMelt = dfMelt.drop('index',axis=1)\n",
    "    levelGroup = dfMelt.groupby(['variable','value'])\n",
    "    crosstab = levelGroup.sum()\n",
    "    countPerLevel = levelGroup.size()\n",
    "    crossTabProp = crosstab.divide(countPerLevel,axis=0)\n",
    "    return crossTabProp"
   ]
  },
  {
   "cell_type": "code",
   "execution_count": 25,
   "metadata": {},
   "outputs": [],
   "source": [
    "ct = multicolumn_crosstab(X_train.astype(str),binary_vars)"
   ]
  },
  {
   "cell_type": "markdown",
   "metadata": {},
   "source": [
    "In the below cross tab, the value in the second row, and in the fourth column (Incerased Lamina propria cellularity_1) is the number 0.894737.  This means that 89% of the patients (in the train set) had both Basal histocytic cells and Increased lamina propria cellularity.  Notice how this number 89% adds up tihe the 10.5263 % on the left of it.  That 10% number is the proportion of patients that had basal histocytic cells but did NOT have icnreased lamina propria cellularity."
   ]
  },
  {
   "cell_type": "code",
   "execution_count": 26,
   "metadata": {},
   "outputs": [
    {
     "data": {
      "text/html": [
       "<div>\n",
       "<style scoped>\n",
       "    .dataframe tbody tr th:only-of-type {\n",
       "        vertical-align: middle;\n",
       "    }\n",
       "\n",
       "    .dataframe tbody tr th {\n",
       "        vertical-align: top;\n",
       "    }\n",
       "\n",
       "    .dataframe thead th {\n",
       "        text-align: right;\n",
       "    }\n",
       "</style>\n",
       "<table border=\"1\" class=\"dataframe\">\n",
       "  <thead>\n",
       "    <tr style=\"text-align: right;\">\n",
       "      <th></th>\n",
       "      <th></th>\n",
       "      <th>Basal histiocytic cells_0</th>\n",
       "      <th>Basal histiocytic cells_1</th>\n",
       "      <th>Increased lamina propria cellularity?_0</th>\n",
       "      <th>Increased lamina propria cellularity?_1</th>\n",
       "      <th>Increased lymphoid aggregates in lamina propria?_0</th>\n",
       "      <th>Increased lymphoid aggregates in lamina propria?_1</th>\n",
       "      <th>Intraepithelial lymphocytes_0</th>\n",
       "      <th>Intraepithelial lymphocytes_1</th>\n",
       "      <th>Lamina propria granulomas_0</th>\n",
       "      <th>Lamina propria granulomas_1</th>\n",
       "      <th>...</th>\n",
       "      <th>Marked &amp; transmucosal increase in lamina propria cellularity_1</th>\n",
       "      <th>Mild &amp; superficial increase in lamina propria cellularity?_0</th>\n",
       "      <th>Mild &amp; superficial increase in lamina propria cellularity?_1</th>\n",
       "      <th>Patchy lamina propria cellularity?_0</th>\n",
       "      <th>Patchy lamina propria cellularity?_1</th>\n",
       "      <th>Sex_0</th>\n",
       "      <th>Sex_1</th>\n",
       "      <th>Subepithelial collagen_0</th>\n",
       "      <th>Submucosal granulomas_0</th>\n",
       "      <th>Submucosal granulomas_1</th>\n",
       "    </tr>\n",
       "    <tr>\n",
       "      <th>variable</th>\n",
       "      <th>value</th>\n",
       "      <th></th>\n",
       "      <th></th>\n",
       "      <th></th>\n",
       "      <th></th>\n",
       "      <th></th>\n",
       "      <th></th>\n",
       "      <th></th>\n",
       "      <th></th>\n",
       "      <th></th>\n",
       "      <th></th>\n",
       "      <th></th>\n",
       "      <th></th>\n",
       "      <th></th>\n",
       "      <th></th>\n",
       "      <th></th>\n",
       "      <th></th>\n",
       "      <th></th>\n",
       "      <th></th>\n",
       "      <th></th>\n",
       "      <th></th>\n",
       "      <th></th>\n",
       "    </tr>\n",
       "  </thead>\n",
       "  <tbody>\n",
       "    <tr>\n",
       "      <th rowspan=\"2\" valign=\"top\">Basal histiocytic cells</th>\n",
       "      <th>0</th>\n",
       "      <td>1.000000</td>\n",
       "      <td>0.000000</td>\n",
       "      <td>0.410749</td>\n",
       "      <td>0.589251</td>\n",
       "      <td>0.838772</td>\n",
       "      <td>0.161228</td>\n",
       "      <td>0.988484</td>\n",
       "      <td>0.011516</td>\n",
       "      <td>0.976967</td>\n",
       "      <td>0.023033</td>\n",
       "      <td>...</td>\n",
       "      <td>0.272553</td>\n",
       "      <td>0.996161</td>\n",
       "      <td>0.003839</td>\n",
       "      <td>0.844530</td>\n",
       "      <td>0.155470</td>\n",
       "      <td>0.508637</td>\n",
       "      <td>0.491363</td>\n",
       "      <td>1.0</td>\n",
       "      <td>0.992322</td>\n",
       "      <td>0.007678</td>\n",
       "    </tr>\n",
       "    <tr>\n",
       "      <th>1</th>\n",
       "      <td>0.000000</td>\n",
       "      <td>1.000000</td>\n",
       "      <td>0.105263</td>\n",
       "      <td>0.894737</td>\n",
       "      <td>0.842105</td>\n",
       "      <td>0.157895</td>\n",
       "      <td>1.000000</td>\n",
       "      <td>0.000000</td>\n",
       "      <td>0.947368</td>\n",
       "      <td>0.052632</td>\n",
       "      <td>...</td>\n",
       "      <td>0.421053</td>\n",
       "      <td>1.000000</td>\n",
       "      <td>0.000000</td>\n",
       "      <td>0.684211</td>\n",
       "      <td>0.315789</td>\n",
       "      <td>0.684211</td>\n",
       "      <td>0.315789</td>\n",
       "      <td>1.0</td>\n",
       "      <td>1.000000</td>\n",
       "      <td>0.000000</td>\n",
       "    </tr>\n",
       "    <tr>\n",
       "      <th rowspan=\"2\" valign=\"top\">Increased lamina propria cellularity?</th>\n",
       "      <th>0</th>\n",
       "      <td>0.990741</td>\n",
       "      <td>0.009259</td>\n",
       "      <td>1.000000</td>\n",
       "      <td>0.000000</td>\n",
       "      <td>1.000000</td>\n",
       "      <td>0.000000</td>\n",
       "      <td>0.995370</td>\n",
       "      <td>0.004630</td>\n",
       "      <td>0.995370</td>\n",
       "      <td>0.004630</td>\n",
       "      <td>...</td>\n",
       "      <td>0.000000</td>\n",
       "      <td>1.000000</td>\n",
       "      <td>0.000000</td>\n",
       "      <td>1.000000</td>\n",
       "      <td>0.000000</td>\n",
       "      <td>0.462963</td>\n",
       "      <td>0.537037</td>\n",
       "      <td>1.0</td>\n",
       "      <td>1.000000</td>\n",
       "      <td>0.000000</td>\n",
       "    </tr>\n",
       "    <tr>\n",
       "      <th>1</th>\n",
       "      <td>0.947531</td>\n",
       "      <td>0.052469</td>\n",
       "      <td>0.000000</td>\n",
       "      <td>1.000000</td>\n",
       "      <td>0.731481</td>\n",
       "      <td>0.268519</td>\n",
       "      <td>0.984568</td>\n",
       "      <td>0.015432</td>\n",
       "      <td>0.962963</td>\n",
       "      <td>0.037037</td>\n",
       "      <td>...</td>\n",
       "      <td>0.462963</td>\n",
       "      <td>0.993827</td>\n",
       "      <td>0.006173</td>\n",
       "      <td>0.731481</td>\n",
       "      <td>0.268519</td>\n",
       "      <td>0.549383</td>\n",
       "      <td>0.450617</td>\n",
       "      <td>1.0</td>\n",
       "      <td>0.987654</td>\n",
       "      <td>0.012346</td>\n",
       "    </tr>\n",
       "    <tr>\n",
       "      <th rowspan=\"2\" valign=\"top\">Increased lymphoid aggregates in lamina propria?</th>\n",
       "      <th>0</th>\n",
       "      <td>0.964680</td>\n",
       "      <td>0.035320</td>\n",
       "      <td>0.476821</td>\n",
       "      <td>0.523179</td>\n",
       "      <td>1.000000</td>\n",
       "      <td>0.000000</td>\n",
       "      <td>0.988962</td>\n",
       "      <td>0.011038</td>\n",
       "      <td>0.971302</td>\n",
       "      <td>0.028698</td>\n",
       "      <td>...</td>\n",
       "      <td>0.331126</td>\n",
       "      <td>0.995585</td>\n",
       "      <td>0.004415</td>\n",
       "      <td>0.812362</td>\n",
       "      <td>0.187638</td>\n",
       "      <td>0.509934</td>\n",
       "      <td>0.490066</td>\n",
       "      <td>1.0</td>\n",
       "      <td>0.991170</td>\n",
       "      <td>0.008830</td>\n",
       "    </tr>\n",
       "    <tr>\n",
       "      <th>1</th>\n",
       "      <td>0.965517</td>\n",
       "      <td>0.034483</td>\n",
       "      <td>0.000000</td>\n",
       "      <td>1.000000</td>\n",
       "      <td>0.000000</td>\n",
       "      <td>1.000000</td>\n",
       "      <td>0.988506</td>\n",
       "      <td>0.011494</td>\n",
       "      <td>1.000000</td>\n",
       "      <td>0.000000</td>\n",
       "      <td>...</td>\n",
       "      <td>0.000000</td>\n",
       "      <td>1.000000</td>\n",
       "      <td>0.000000</td>\n",
       "      <td>0.977011</td>\n",
       "      <td>0.022989</td>\n",
       "      <td>0.540230</td>\n",
       "      <td>0.459770</td>\n",
       "      <td>1.0</td>\n",
       "      <td>1.000000</td>\n",
       "      <td>0.000000</td>\n",
       "    </tr>\n",
       "    <tr>\n",
       "      <th rowspan=\"2\" valign=\"top\">Intraepithelial lymphocytes</th>\n",
       "      <th>0</th>\n",
       "      <td>0.964419</td>\n",
       "      <td>0.035581</td>\n",
       "      <td>0.402622</td>\n",
       "      <td>0.597378</td>\n",
       "      <td>0.838951</td>\n",
       "      <td>0.161049</td>\n",
       "      <td>1.000000</td>\n",
       "      <td>0.000000</td>\n",
       "      <td>0.977528</td>\n",
       "      <td>0.022472</td>\n",
       "      <td>...</td>\n",
       "      <td>0.277154</td>\n",
       "      <td>0.996255</td>\n",
       "      <td>0.003745</td>\n",
       "      <td>0.840824</td>\n",
       "      <td>0.159176</td>\n",
       "      <td>0.516854</td>\n",
       "      <td>0.483146</td>\n",
       "      <td>1.0</td>\n",
       "      <td>0.992509</td>\n",
       "      <td>0.007491</td>\n",
       "    </tr>\n",
       "    <tr>\n",
       "      <th>1</th>\n",
       "      <td>1.000000</td>\n",
       "      <td>0.000000</td>\n",
       "      <td>0.166667</td>\n",
       "      <td>0.833333</td>\n",
       "      <td>0.833333</td>\n",
       "      <td>0.166667</td>\n",
       "      <td>0.000000</td>\n",
       "      <td>1.000000</td>\n",
       "      <td>0.833333</td>\n",
       "      <td>0.166667</td>\n",
       "      <td>...</td>\n",
       "      <td>0.333333</td>\n",
       "      <td>1.000000</td>\n",
       "      <td>0.000000</td>\n",
       "      <td>0.666667</td>\n",
       "      <td>0.333333</td>\n",
       "      <td>0.333333</td>\n",
       "      <td>0.666667</td>\n",
       "      <td>1.0</td>\n",
       "      <td>1.000000</td>\n",
       "      <td>0.000000</td>\n",
       "    </tr>\n",
       "    <tr>\n",
       "      <th rowspan=\"2\" valign=\"top\">Lamina propria granulomas</th>\n",
       "      <th>0</th>\n",
       "      <td>0.965844</td>\n",
       "      <td>0.034156</td>\n",
       "      <td>0.407970</td>\n",
       "      <td>0.592030</td>\n",
       "      <td>0.834915</td>\n",
       "      <td>0.165085</td>\n",
       "      <td>0.990512</td>\n",
       "      <td>0.009488</td>\n",
       "      <td>1.000000</td>\n",
       "      <td>0.000000</td>\n",
       "      <td>...</td>\n",
       "      <td>0.284630</td>\n",
       "      <td>0.996205</td>\n",
       "      <td>0.003795</td>\n",
       "      <td>0.857685</td>\n",
       "      <td>0.142315</td>\n",
       "      <td>0.510436</td>\n",
       "      <td>0.489564</td>\n",
       "      <td>1.0</td>\n",
       "      <td>0.998102</td>\n",
       "      <td>0.001898</td>\n",
       "    </tr>\n",
       "    <tr>\n",
       "      <th>1</th>\n",
       "      <td>0.923077</td>\n",
       "      <td>0.076923</td>\n",
       "      <td>0.076923</td>\n",
       "      <td>0.923077</td>\n",
       "      <td>1.000000</td>\n",
       "      <td>0.000000</td>\n",
       "      <td>0.923077</td>\n",
       "      <td>0.076923</td>\n",
       "      <td>0.000000</td>\n",
       "      <td>1.000000</td>\n",
       "      <td>...</td>\n",
       "      <td>0.000000</td>\n",
       "      <td>1.000000</td>\n",
       "      <td>0.000000</td>\n",
       "      <td>0.076923</td>\n",
       "      <td>0.923077</td>\n",
       "      <td>0.692308</td>\n",
       "      <td>0.307692</td>\n",
       "      <td>1.0</td>\n",
       "      <td>0.769231</td>\n",
       "      <td>0.230769</td>\n",
       "    </tr>\n",
       "    <tr>\n",
       "      <th rowspan=\"2\" valign=\"top\">Marked &amp; transmucosal increase in lamina propria cellularity</th>\n",
       "      <th>0</th>\n",
       "      <td>0.971795</td>\n",
       "      <td>0.028205</td>\n",
       "      <td>0.553846</td>\n",
       "      <td>0.446154</td>\n",
       "      <td>0.776923</td>\n",
       "      <td>0.223077</td>\n",
       "      <td>0.989744</td>\n",
       "      <td>0.010256</td>\n",
       "      <td>0.966667</td>\n",
       "      <td>0.033333</td>\n",
       "      <td>...</td>\n",
       "      <td>0.000000</td>\n",
       "      <td>0.994872</td>\n",
       "      <td>0.005128</td>\n",
       "      <td>0.776923</td>\n",
       "      <td>0.223077</td>\n",
       "      <td>0.487179</td>\n",
       "      <td>0.512821</td>\n",
       "      <td>1.0</td>\n",
       "      <td>0.989744</td>\n",
       "      <td>0.010256</td>\n",
       "    </tr>\n",
       "    <tr>\n",
       "      <th>1</th>\n",
       "      <td>0.946667</td>\n",
       "      <td>0.053333</td>\n",
       "      <td>0.000000</td>\n",
       "      <td>1.000000</td>\n",
       "      <td>1.000000</td>\n",
       "      <td>0.000000</td>\n",
       "      <td>0.986667</td>\n",
       "      <td>0.013333</td>\n",
       "      <td>1.000000</td>\n",
       "      <td>0.000000</td>\n",
       "      <td>...</td>\n",
       "      <td>1.000000</td>\n",
       "      <td>1.000000</td>\n",
       "      <td>0.000000</td>\n",
       "      <td>1.000000</td>\n",
       "      <td>0.000000</td>\n",
       "      <td>0.586667</td>\n",
       "      <td>0.413333</td>\n",
       "      <td>1.0</td>\n",
       "      <td>1.000000</td>\n",
       "      <td>0.000000</td>\n",
       "    </tr>\n",
       "    <tr>\n",
       "      <th rowspan=\"2\" valign=\"top\">Mild &amp; superficial increase in lamina propria cellularity?</th>\n",
       "      <th>0</th>\n",
       "      <td>0.964684</td>\n",
       "      <td>0.035316</td>\n",
       "      <td>0.401487</td>\n",
       "      <td>0.598513</td>\n",
       "      <td>0.838290</td>\n",
       "      <td>0.161710</td>\n",
       "      <td>0.988848</td>\n",
       "      <td>0.011152</td>\n",
       "      <td>0.975836</td>\n",
       "      <td>0.024164</td>\n",
       "      <td>...</td>\n",
       "      <td>0.278810</td>\n",
       "      <td>1.000000</td>\n",
       "      <td>0.000000</td>\n",
       "      <td>0.838290</td>\n",
       "      <td>0.161710</td>\n",
       "      <td>0.513011</td>\n",
       "      <td>0.486989</td>\n",
       "      <td>1.0</td>\n",
       "      <td>0.992565</td>\n",
       "      <td>0.007435</td>\n",
       "    </tr>\n",
       "    <tr>\n",
       "      <th>1</th>\n",
       "      <td>1.000000</td>\n",
       "      <td>0.000000</td>\n",
       "      <td>0.000000</td>\n",
       "      <td>1.000000</td>\n",
       "      <td>1.000000</td>\n",
       "      <td>0.000000</td>\n",
       "      <td>1.000000</td>\n",
       "      <td>0.000000</td>\n",
       "      <td>1.000000</td>\n",
       "      <td>0.000000</td>\n",
       "      <td>...</td>\n",
       "      <td>0.000000</td>\n",
       "      <td>0.000000</td>\n",
       "      <td>1.000000</td>\n",
       "      <td>1.000000</td>\n",
       "      <td>0.000000</td>\n",
       "      <td>1.000000</td>\n",
       "      <td>0.000000</td>\n",
       "      <td>1.0</td>\n",
       "      <td>1.000000</td>\n",
       "      <td>0.000000</td>\n",
       "    </tr>\n",
       "    <tr>\n",
       "      <th rowspan=\"2\" valign=\"top\">Patchy lamina propria cellularity?</th>\n",
       "      <th>0</th>\n",
       "      <td>0.971302</td>\n",
       "      <td>0.028698</td>\n",
       "      <td>0.476821</td>\n",
       "      <td>0.523179</td>\n",
       "      <td>0.812362</td>\n",
       "      <td>0.187638</td>\n",
       "      <td>0.991170</td>\n",
       "      <td>0.008830</td>\n",
       "      <td>0.997792</td>\n",
       "      <td>0.002208</td>\n",
       "      <td>...</td>\n",
       "      <td>0.331126</td>\n",
       "      <td>0.995585</td>\n",
       "      <td>0.004415</td>\n",
       "      <td>1.000000</td>\n",
       "      <td>0.000000</td>\n",
       "      <td>0.520971</td>\n",
       "      <td>0.479029</td>\n",
       "      <td>1.0</td>\n",
       "      <td>1.000000</td>\n",
       "      <td>0.000000</td>\n",
       "    </tr>\n",
       "    <tr>\n",
       "      <th>1</th>\n",
       "      <td>0.931034</td>\n",
       "      <td>0.068966</td>\n",
       "      <td>0.000000</td>\n",
       "      <td>1.000000</td>\n",
       "      <td>0.977011</td>\n",
       "      <td>0.022989</td>\n",
       "      <td>0.977011</td>\n",
       "      <td>0.022989</td>\n",
       "      <td>0.862069</td>\n",
       "      <td>0.137931</td>\n",
       "      <td>...</td>\n",
       "      <td>0.000000</td>\n",
       "      <td>1.000000</td>\n",
       "      <td>0.000000</td>\n",
       "      <td>0.000000</td>\n",
       "      <td>1.000000</td>\n",
       "      <td>0.482759</td>\n",
       "      <td>0.517241</td>\n",
       "      <td>1.0</td>\n",
       "      <td>0.954023</td>\n",
       "      <td>0.045977</td>\n",
       "    </tr>\n",
       "    <tr>\n",
       "      <th rowspan=\"2\" valign=\"top\">Sex</th>\n",
       "      <th>0</th>\n",
       "      <td>0.953237</td>\n",
       "      <td>0.046763</td>\n",
       "      <td>0.359712</td>\n",
       "      <td>0.640288</td>\n",
       "      <td>0.830935</td>\n",
       "      <td>0.169065</td>\n",
       "      <td>0.992806</td>\n",
       "      <td>0.007194</td>\n",
       "      <td>0.967626</td>\n",
       "      <td>0.032374</td>\n",
       "      <td>...</td>\n",
       "      <td>0.316547</td>\n",
       "      <td>0.992806</td>\n",
       "      <td>0.007194</td>\n",
       "      <td>0.848921</td>\n",
       "      <td>0.151079</td>\n",
       "      <td>1.000000</td>\n",
       "      <td>0.000000</td>\n",
       "      <td>1.0</td>\n",
       "      <td>0.989209</td>\n",
       "      <td>0.010791</td>\n",
       "    </tr>\n",
       "    <tr>\n",
       "      <th>1</th>\n",
       "      <td>0.977099</td>\n",
       "      <td>0.022901</td>\n",
       "      <td>0.442748</td>\n",
       "      <td>0.557252</td>\n",
       "      <td>0.847328</td>\n",
       "      <td>0.152672</td>\n",
       "      <td>0.984733</td>\n",
       "      <td>0.015267</td>\n",
       "      <td>0.984733</td>\n",
       "      <td>0.015267</td>\n",
       "      <td>...</td>\n",
       "      <td>0.236641</td>\n",
       "      <td>1.000000</td>\n",
       "      <td>0.000000</td>\n",
       "      <td>0.828244</td>\n",
       "      <td>0.171756</td>\n",
       "      <td>0.000000</td>\n",
       "      <td>1.000000</td>\n",
       "      <td>1.0</td>\n",
       "      <td>0.996183</td>\n",
       "      <td>0.003817</td>\n",
       "    </tr>\n",
       "    <tr>\n",
       "      <th>Subepithelial collagen</th>\n",
       "      <th>0</th>\n",
       "      <td>0.964815</td>\n",
       "      <td>0.035185</td>\n",
       "      <td>0.400000</td>\n",
       "      <td>0.600000</td>\n",
       "      <td>0.838889</td>\n",
       "      <td>0.161111</td>\n",
       "      <td>0.988889</td>\n",
       "      <td>0.011111</td>\n",
       "      <td>0.975926</td>\n",
       "      <td>0.024074</td>\n",
       "      <td>...</td>\n",
       "      <td>0.277778</td>\n",
       "      <td>0.996296</td>\n",
       "      <td>0.003704</td>\n",
       "      <td>0.838889</td>\n",
       "      <td>0.161111</td>\n",
       "      <td>0.514815</td>\n",
       "      <td>0.485185</td>\n",
       "      <td>1.0</td>\n",
       "      <td>0.992593</td>\n",
       "      <td>0.007407</td>\n",
       "    </tr>\n",
       "    <tr>\n",
       "      <th rowspan=\"2\" valign=\"top\">Submucosal granulomas</th>\n",
       "      <th>0</th>\n",
       "      <td>0.964552</td>\n",
       "      <td>0.035448</td>\n",
       "      <td>0.402985</td>\n",
       "      <td>0.597015</td>\n",
       "      <td>0.837687</td>\n",
       "      <td>0.162313</td>\n",
       "      <td>0.988806</td>\n",
       "      <td>0.011194</td>\n",
       "      <td>0.981343</td>\n",
       "      <td>0.018657</td>\n",
       "      <td>...</td>\n",
       "      <td>0.279851</td>\n",
       "      <td>0.996269</td>\n",
       "      <td>0.003731</td>\n",
       "      <td>0.845149</td>\n",
       "      <td>0.154851</td>\n",
       "      <td>0.513060</td>\n",
       "      <td>0.486940</td>\n",
       "      <td>1.0</td>\n",
       "      <td>1.000000</td>\n",
       "      <td>0.000000</td>\n",
       "    </tr>\n",
       "    <tr>\n",
       "      <th>1</th>\n",
       "      <td>1.000000</td>\n",
       "      <td>0.000000</td>\n",
       "      <td>0.000000</td>\n",
       "      <td>1.000000</td>\n",
       "      <td>1.000000</td>\n",
       "      <td>0.000000</td>\n",
       "      <td>1.000000</td>\n",
       "      <td>0.000000</td>\n",
       "      <td>0.250000</td>\n",
       "      <td>0.750000</td>\n",
       "      <td>...</td>\n",
       "      <td>0.000000</td>\n",
       "      <td>1.000000</td>\n",
       "      <td>0.000000</td>\n",
       "      <td>0.000000</td>\n",
       "      <td>1.000000</td>\n",
       "      <td>0.750000</td>\n",
       "      <td>0.250000</td>\n",
       "      <td>1.0</td>\n",
       "      <td>0.000000</td>\n",
       "      <td>1.000000</td>\n",
       "    </tr>\n",
       "  </tbody>\n",
       "</table>\n",
       "<p>21 rows × 21 columns</p>\n",
       "</div>"
      ],
      "text/plain": [
       "                                                          Basal histiocytic cells_0  \\\n",
       "variable                                           value                              \n",
       "Basal histiocytic cells                            0                       1.000000   \n",
       "                                                   1                       0.000000   \n",
       "Increased lamina propria cellularity?              0                       0.990741   \n",
       "                                                   1                       0.947531   \n",
       "Increased lymphoid aggregates in lamina propria?   0                       0.964680   \n",
       "                                                   1                       0.965517   \n",
       "Intraepithelial lymphocytes                        0                       0.964419   \n",
       "                                                   1                       1.000000   \n",
       "Lamina propria granulomas                          0                       0.965844   \n",
       "                                                   1                       0.923077   \n",
       "Marked & transmucosal increase in lamina propri... 0                       0.971795   \n",
       "                                                   1                       0.946667   \n",
       "Mild & superficial increase in lamina propria c... 0                       0.964684   \n",
       "                                                   1                       1.000000   \n",
       "Patchy lamina propria cellularity?                 0                       0.971302   \n",
       "                                                   1                       0.931034   \n",
       "Sex                                                0                       0.953237   \n",
       "                                                   1                       0.977099   \n",
       "Subepithelial collagen                             0                       0.964815   \n",
       "Submucosal granulomas                              0                       0.964552   \n",
       "                                                   1                       1.000000   \n",
       "\n",
       "                                                          Basal histiocytic cells_1  \\\n",
       "variable                                           value                              \n",
       "Basal histiocytic cells                            0                       0.000000   \n",
       "                                                   1                       1.000000   \n",
       "Increased lamina propria cellularity?              0                       0.009259   \n",
       "                                                   1                       0.052469   \n",
       "Increased lymphoid aggregates in lamina propria?   0                       0.035320   \n",
       "                                                   1                       0.034483   \n",
       "Intraepithelial lymphocytes                        0                       0.035581   \n",
       "                                                   1                       0.000000   \n",
       "Lamina propria granulomas                          0                       0.034156   \n",
       "                                                   1                       0.076923   \n",
       "Marked & transmucosal increase in lamina propri... 0                       0.028205   \n",
       "                                                   1                       0.053333   \n",
       "Mild & superficial increase in lamina propria c... 0                       0.035316   \n",
       "                                                   1                       0.000000   \n",
       "Patchy lamina propria cellularity?                 0                       0.028698   \n",
       "                                                   1                       0.068966   \n",
       "Sex                                                0                       0.046763   \n",
       "                                                   1                       0.022901   \n",
       "Subepithelial collagen                             0                       0.035185   \n",
       "Submucosal granulomas                              0                       0.035448   \n",
       "                                                   1                       0.000000   \n",
       "\n",
       "                                                          Increased lamina propria cellularity?_0  \\\n",
       "variable                                           value                                            \n",
       "Basal histiocytic cells                            0                                     0.410749   \n",
       "                                                   1                                     0.105263   \n",
       "Increased lamina propria cellularity?              0                                     1.000000   \n",
       "                                                   1                                     0.000000   \n",
       "Increased lymphoid aggregates in lamina propria?   0                                     0.476821   \n",
       "                                                   1                                     0.000000   \n",
       "Intraepithelial lymphocytes                        0                                     0.402622   \n",
       "                                                   1                                     0.166667   \n",
       "Lamina propria granulomas                          0                                     0.407970   \n",
       "                                                   1                                     0.076923   \n",
       "Marked & transmucosal increase in lamina propri... 0                                     0.553846   \n",
       "                                                   1                                     0.000000   \n",
       "Mild & superficial increase in lamina propria c... 0                                     0.401487   \n",
       "                                                   1                                     0.000000   \n",
       "Patchy lamina propria cellularity?                 0                                     0.476821   \n",
       "                                                   1                                     0.000000   \n",
       "Sex                                                0                                     0.359712   \n",
       "                                                   1                                     0.442748   \n",
       "Subepithelial collagen                             0                                     0.400000   \n",
       "Submucosal granulomas                              0                                     0.402985   \n",
       "                                                   1                                     0.000000   \n",
       "\n",
       "                                                          Increased lamina propria cellularity?_1  \\\n",
       "variable                                           value                                            \n",
       "Basal histiocytic cells                            0                                     0.589251   \n",
       "                                                   1                                     0.894737   \n",
       "Increased lamina propria cellularity?              0                                     0.000000   \n",
       "                                                   1                                     1.000000   \n",
       "Increased lymphoid aggregates in lamina propria?   0                                     0.523179   \n",
       "                                                   1                                     1.000000   \n",
       "Intraepithelial lymphocytes                        0                                     0.597378   \n",
       "                                                   1                                     0.833333   \n",
       "Lamina propria granulomas                          0                                     0.592030   \n",
       "                                                   1                                     0.923077   \n",
       "Marked & transmucosal increase in lamina propri... 0                                     0.446154   \n",
       "                                                   1                                     1.000000   \n",
       "Mild & superficial increase in lamina propria c... 0                                     0.598513   \n",
       "                                                   1                                     1.000000   \n",
       "Patchy lamina propria cellularity?                 0                                     0.523179   \n",
       "                                                   1                                     1.000000   \n",
       "Sex                                                0                                     0.640288   \n",
       "                                                   1                                     0.557252   \n",
       "Subepithelial collagen                             0                                     0.600000   \n",
       "Submucosal granulomas                              0                                     0.597015   \n",
       "                                                   1                                     1.000000   \n",
       "\n",
       "                                                          Increased lymphoid aggregates in lamina propria?_0  \\\n",
       "variable                                           value                                                       \n",
       "Basal histiocytic cells                            0                                               0.838772    \n",
       "                                                   1                                               0.842105    \n",
       "Increased lamina propria cellularity?              0                                               1.000000    \n",
       "                                                   1                                               0.731481    \n",
       "Increased lymphoid aggregates in lamina propria?   0                                               1.000000    \n",
       "                                                   1                                               0.000000    \n",
       "Intraepithelial lymphocytes                        0                                               0.838951    \n",
       "                                                   1                                               0.833333    \n",
       "Lamina propria granulomas                          0                                               0.834915    \n",
       "                                                   1                                               1.000000    \n",
       "Marked & transmucosal increase in lamina propri... 0                                               0.776923    \n",
       "                                                   1                                               1.000000    \n",
       "Mild & superficial increase in lamina propria c... 0                                               0.838290    \n",
       "                                                   1                                               1.000000    \n",
       "Patchy lamina propria cellularity?                 0                                               0.812362    \n",
       "                                                   1                                               0.977011    \n",
       "Sex                                                0                                               0.830935    \n",
       "                                                   1                                               0.847328    \n",
       "Subepithelial collagen                             0                                               0.838889    \n",
       "Submucosal granulomas                              0                                               0.837687    \n",
       "                                                   1                                               1.000000    \n",
       "\n",
       "                                                          Increased lymphoid aggregates in lamina propria?_1  \\\n",
       "variable                                           value                                                       \n",
       "Basal histiocytic cells                            0                                               0.161228    \n",
       "                                                   1                                               0.157895    \n",
       "Increased lamina propria cellularity?              0                                               0.000000    \n",
       "                                                   1                                               0.268519    \n",
       "Increased lymphoid aggregates in lamina propria?   0                                               0.000000    \n",
       "                                                   1                                               1.000000    \n",
       "Intraepithelial lymphocytes                        0                                               0.161049    \n",
       "                                                   1                                               0.166667    \n",
       "Lamina propria granulomas                          0                                               0.165085    \n",
       "                                                   1                                               0.000000    \n",
       "Marked & transmucosal increase in lamina propri... 0                                               0.223077    \n",
       "                                                   1                                               0.000000    \n",
       "Mild & superficial increase in lamina propria c... 0                                               0.161710    \n",
       "                                                   1                                               0.000000    \n",
       "Patchy lamina propria cellularity?                 0                                               0.187638    \n",
       "                                                   1                                               0.022989    \n",
       "Sex                                                0                                               0.169065    \n",
       "                                                   1                                               0.152672    \n",
       "Subepithelial collagen                             0                                               0.161111    \n",
       "Submucosal granulomas                              0                                               0.162313    \n",
       "                                                   1                                               0.000000    \n",
       "\n",
       "                                                          Intraepithelial lymphocytes_0  \\\n",
       "variable                                           value                                  \n",
       "Basal histiocytic cells                            0                           0.988484   \n",
       "                                                   1                           1.000000   \n",
       "Increased lamina propria cellularity?              0                           0.995370   \n",
       "                                                   1                           0.984568   \n",
       "Increased lymphoid aggregates in lamina propria?   0                           0.988962   \n",
       "                                                   1                           0.988506   \n",
       "Intraepithelial lymphocytes                        0                           1.000000   \n",
       "                                                   1                           0.000000   \n",
       "Lamina propria granulomas                          0                           0.990512   \n",
       "                                                   1                           0.923077   \n",
       "Marked & transmucosal increase in lamina propri... 0                           0.989744   \n",
       "                                                   1                           0.986667   \n",
       "Mild & superficial increase in lamina propria c... 0                           0.988848   \n",
       "                                                   1                           1.000000   \n",
       "Patchy lamina propria cellularity?                 0                           0.991170   \n",
       "                                                   1                           0.977011   \n",
       "Sex                                                0                           0.992806   \n",
       "                                                   1                           0.984733   \n",
       "Subepithelial collagen                             0                           0.988889   \n",
       "Submucosal granulomas                              0                           0.988806   \n",
       "                                                   1                           1.000000   \n",
       "\n",
       "                                                          Intraepithelial lymphocytes_1  \\\n",
       "variable                                           value                                  \n",
       "Basal histiocytic cells                            0                           0.011516   \n",
       "                                                   1                           0.000000   \n",
       "Increased lamina propria cellularity?              0                           0.004630   \n",
       "                                                   1                           0.015432   \n",
       "Increased lymphoid aggregates in lamina propria?   0                           0.011038   \n",
       "                                                   1                           0.011494   \n",
       "Intraepithelial lymphocytes                        0                           0.000000   \n",
       "                                                   1                           1.000000   \n",
       "Lamina propria granulomas                          0                           0.009488   \n",
       "                                                   1                           0.076923   \n",
       "Marked & transmucosal increase in lamina propri... 0                           0.010256   \n",
       "                                                   1                           0.013333   \n",
       "Mild & superficial increase in lamina propria c... 0                           0.011152   \n",
       "                                                   1                           0.000000   \n",
       "Patchy lamina propria cellularity?                 0                           0.008830   \n",
       "                                                   1                           0.022989   \n",
       "Sex                                                0                           0.007194   \n",
       "                                                   1                           0.015267   \n",
       "Subepithelial collagen                             0                           0.011111   \n",
       "Submucosal granulomas                              0                           0.011194   \n",
       "                                                   1                           0.000000   \n",
       "\n",
       "                                                          Lamina propria granulomas_0  \\\n",
       "variable                                           value                                \n",
       "Basal histiocytic cells                            0                         0.976967   \n",
       "                                                   1                         0.947368   \n",
       "Increased lamina propria cellularity?              0                         0.995370   \n",
       "                                                   1                         0.962963   \n",
       "Increased lymphoid aggregates in lamina propria?   0                         0.971302   \n",
       "                                                   1                         1.000000   \n",
       "Intraepithelial lymphocytes                        0                         0.977528   \n",
       "                                                   1                         0.833333   \n",
       "Lamina propria granulomas                          0                         1.000000   \n",
       "                                                   1                         0.000000   \n",
       "Marked & transmucosal increase in lamina propri... 0                         0.966667   \n",
       "                                                   1                         1.000000   \n",
       "Mild & superficial increase in lamina propria c... 0                         0.975836   \n",
       "                                                   1                         1.000000   \n",
       "Patchy lamina propria cellularity?                 0                         0.997792   \n",
       "                                                   1                         0.862069   \n",
       "Sex                                                0                         0.967626   \n",
       "                                                   1                         0.984733   \n",
       "Subepithelial collagen                             0                         0.975926   \n",
       "Submucosal granulomas                              0                         0.981343   \n",
       "                                                   1                         0.250000   \n",
       "\n",
       "                                                          Lamina propria granulomas_1  \\\n",
       "variable                                           value                                \n",
       "Basal histiocytic cells                            0                         0.023033   \n",
       "                                                   1                         0.052632   \n",
       "Increased lamina propria cellularity?              0                         0.004630   \n",
       "                                                   1                         0.037037   \n",
       "Increased lymphoid aggregates in lamina propria?   0                         0.028698   \n",
       "                                                   1                         0.000000   \n",
       "Intraepithelial lymphocytes                        0                         0.022472   \n",
       "                                                   1                         0.166667   \n",
       "Lamina propria granulomas                          0                         0.000000   \n",
       "                                                   1                         1.000000   \n",
       "Marked & transmucosal increase in lamina propri... 0                         0.033333   \n",
       "                                                   1                         0.000000   \n",
       "Mild & superficial increase in lamina propria c... 0                         0.024164   \n",
       "                                                   1                         0.000000   \n",
       "Patchy lamina propria cellularity?                 0                         0.002208   \n",
       "                                                   1                         0.137931   \n",
       "Sex                                                0                         0.032374   \n",
       "                                                   1                         0.015267   \n",
       "Subepithelial collagen                             0                         0.024074   \n",
       "Submucosal granulomas                              0                         0.018657   \n",
       "                                                   1                         0.750000   \n",
       "\n",
       "                                                          ...  \\\n",
       "variable                                           value  ...   \n",
       "Basal histiocytic cells                            0      ...   \n",
       "                                                   1      ...   \n",
       "Increased lamina propria cellularity?              0      ...   \n",
       "                                                   1      ...   \n",
       "Increased lymphoid aggregates in lamina propria?   0      ...   \n",
       "                                                   1      ...   \n",
       "Intraepithelial lymphocytes                        0      ...   \n",
       "                                                   1      ...   \n",
       "Lamina propria granulomas                          0      ...   \n",
       "                                                   1      ...   \n",
       "Marked & transmucosal increase in lamina propri... 0      ...   \n",
       "                                                   1      ...   \n",
       "Mild & superficial increase in lamina propria c... 0      ...   \n",
       "                                                   1      ...   \n",
       "Patchy lamina propria cellularity?                 0      ...   \n",
       "                                                   1      ...   \n",
       "Sex                                                0      ...   \n",
       "                                                   1      ...   \n",
       "Subepithelial collagen                             0      ...   \n",
       "Submucosal granulomas                              0      ...   \n",
       "                                                   1      ...   \n",
       "\n",
       "                                                          Marked & transmucosal increase in lamina propria cellularity_1  \\\n",
       "variable                                           value                                                                   \n",
       "Basal histiocytic cells                            0                                               0.272553                \n",
       "                                                   1                                               0.421053                \n",
       "Increased lamina propria cellularity?              0                                               0.000000                \n",
       "                                                   1                                               0.462963                \n",
       "Increased lymphoid aggregates in lamina propria?   0                                               0.331126                \n",
       "                                                   1                                               0.000000                \n",
       "Intraepithelial lymphocytes                        0                                               0.277154                \n",
       "                                                   1                                               0.333333                \n",
       "Lamina propria granulomas                          0                                               0.284630                \n",
       "                                                   1                                               0.000000                \n",
       "Marked & transmucosal increase in lamina propri... 0                                               0.000000                \n",
       "                                                   1                                               1.000000                \n",
       "Mild & superficial increase in lamina propria c... 0                                               0.278810                \n",
       "                                                   1                                               0.000000                \n",
       "Patchy lamina propria cellularity?                 0                                               0.331126                \n",
       "                                                   1                                               0.000000                \n",
       "Sex                                                0                                               0.316547                \n",
       "                                                   1                                               0.236641                \n",
       "Subepithelial collagen                             0                                               0.277778                \n",
       "Submucosal granulomas                              0                                               0.279851                \n",
       "                                                   1                                               0.000000                \n",
       "\n",
       "                                                          Mild & superficial increase in lamina propria cellularity?_0  \\\n",
       "variable                                           value                                                                 \n",
       "Basal histiocytic cells                            0                                               0.996161              \n",
       "                                                   1                                               1.000000              \n",
       "Increased lamina propria cellularity?              0                                               1.000000              \n",
       "                                                   1                                               0.993827              \n",
       "Increased lymphoid aggregates in lamina propria?   0                                               0.995585              \n",
       "                                                   1                                               1.000000              \n",
       "Intraepithelial lymphocytes                        0                                               0.996255              \n",
       "                                                   1                                               1.000000              \n",
       "Lamina propria granulomas                          0                                               0.996205              \n",
       "                                                   1                                               1.000000              \n",
       "Marked & transmucosal increase in lamina propri... 0                                               0.994872              \n",
       "                                                   1                                               1.000000              \n",
       "Mild & superficial increase in lamina propria c... 0                                               1.000000              \n",
       "                                                   1                                               0.000000              \n",
       "Patchy lamina propria cellularity?                 0                                               0.995585              \n",
       "                                                   1                                               1.000000              \n",
       "Sex                                                0                                               0.992806              \n",
       "                                                   1                                               1.000000              \n",
       "Subepithelial collagen                             0                                               0.996296              \n",
       "Submucosal granulomas                              0                                               0.996269              \n",
       "                                                   1                                               1.000000              \n",
       "\n",
       "                                                          Mild & superficial increase in lamina propria cellularity?_1  \\\n",
       "variable                                           value                                                                 \n",
       "Basal histiocytic cells                            0                                               0.003839              \n",
       "                                                   1                                               0.000000              \n",
       "Increased lamina propria cellularity?              0                                               0.000000              \n",
       "                                                   1                                               0.006173              \n",
       "Increased lymphoid aggregates in lamina propria?   0                                               0.004415              \n",
       "                                                   1                                               0.000000              \n",
       "Intraepithelial lymphocytes                        0                                               0.003745              \n",
       "                                                   1                                               0.000000              \n",
       "Lamina propria granulomas                          0                                               0.003795              \n",
       "                                                   1                                               0.000000              \n",
       "Marked & transmucosal increase in lamina propri... 0                                               0.005128              \n",
       "                                                   1                                               0.000000              \n",
       "Mild & superficial increase in lamina propria c... 0                                               0.000000              \n",
       "                                                   1                                               1.000000              \n",
       "Patchy lamina propria cellularity?                 0                                               0.004415              \n",
       "                                                   1                                               0.000000              \n",
       "Sex                                                0                                               0.007194              \n",
       "                                                   1                                               0.000000              \n",
       "Subepithelial collagen                             0                                               0.003704              \n",
       "Submucosal granulomas                              0                                               0.003731              \n",
       "                                                   1                                               0.000000              \n",
       "\n",
       "                                                          Patchy lamina propria cellularity?_0  \\\n",
       "variable                                           value                                         \n",
       "Basal histiocytic cells                            0                                  0.844530   \n",
       "                                                   1                                  0.684211   \n",
       "Increased lamina propria cellularity?              0                                  1.000000   \n",
       "                                                   1                                  0.731481   \n",
       "Increased lymphoid aggregates in lamina propria?   0                                  0.812362   \n",
       "                                                   1                                  0.977011   \n",
       "Intraepithelial lymphocytes                        0                                  0.840824   \n",
       "                                                   1                                  0.666667   \n",
       "Lamina propria granulomas                          0                                  0.857685   \n",
       "                                                   1                                  0.076923   \n",
       "Marked & transmucosal increase in lamina propri... 0                                  0.776923   \n",
       "                                                   1                                  1.000000   \n",
       "Mild & superficial increase in lamina propria c... 0                                  0.838290   \n",
       "                                                   1                                  1.000000   \n",
       "Patchy lamina propria cellularity?                 0                                  1.000000   \n",
       "                                                   1                                  0.000000   \n",
       "Sex                                                0                                  0.848921   \n",
       "                                                   1                                  0.828244   \n",
       "Subepithelial collagen                             0                                  0.838889   \n",
       "Submucosal granulomas                              0                                  0.845149   \n",
       "                                                   1                                  0.000000   \n",
       "\n",
       "                                                          Patchy lamina propria cellularity?_1  \\\n",
       "variable                                           value                                         \n",
       "Basal histiocytic cells                            0                                  0.155470   \n",
       "                                                   1                                  0.315789   \n",
       "Increased lamina propria cellularity?              0                                  0.000000   \n",
       "                                                   1                                  0.268519   \n",
       "Increased lymphoid aggregates in lamina propria?   0                                  0.187638   \n",
       "                                                   1                                  0.022989   \n",
       "Intraepithelial lymphocytes                        0                                  0.159176   \n",
       "                                                   1                                  0.333333   \n",
       "Lamina propria granulomas                          0                                  0.142315   \n",
       "                                                   1                                  0.923077   \n",
       "Marked & transmucosal increase in lamina propri... 0                                  0.223077   \n",
       "                                                   1                                  0.000000   \n",
       "Mild & superficial increase in lamina propria c... 0                                  0.161710   \n",
       "                                                   1                                  0.000000   \n",
       "Patchy lamina propria cellularity?                 0                                  0.000000   \n",
       "                                                   1                                  1.000000   \n",
       "Sex                                                0                                  0.151079   \n",
       "                                                   1                                  0.171756   \n",
       "Subepithelial collagen                             0                                  0.161111   \n",
       "Submucosal granulomas                              0                                  0.154851   \n",
       "                                                   1                                  1.000000   \n",
       "\n",
       "                                                             Sex_0     Sex_1  \\\n",
       "variable                                           value                       \n",
       "Basal histiocytic cells                            0      0.508637  0.491363   \n",
       "                                                   1      0.684211  0.315789   \n",
       "Increased lamina propria cellularity?              0      0.462963  0.537037   \n",
       "                                                   1      0.549383  0.450617   \n",
       "Increased lymphoid aggregates in lamina propria?   0      0.509934  0.490066   \n",
       "                                                   1      0.540230  0.459770   \n",
       "Intraepithelial lymphocytes                        0      0.516854  0.483146   \n",
       "                                                   1      0.333333  0.666667   \n",
       "Lamina propria granulomas                          0      0.510436  0.489564   \n",
       "                                                   1      0.692308  0.307692   \n",
       "Marked & transmucosal increase in lamina propri... 0      0.487179  0.512821   \n",
       "                                                   1      0.586667  0.413333   \n",
       "Mild & superficial increase in lamina propria c... 0      0.513011  0.486989   \n",
       "                                                   1      1.000000  0.000000   \n",
       "Patchy lamina propria cellularity?                 0      0.520971  0.479029   \n",
       "                                                   1      0.482759  0.517241   \n",
       "Sex                                                0      1.000000  0.000000   \n",
       "                                                   1      0.000000  1.000000   \n",
       "Subepithelial collagen                             0      0.514815  0.485185   \n",
       "Submucosal granulomas                              0      0.513060  0.486940   \n",
       "                                                   1      0.750000  0.250000   \n",
       "\n",
       "                                                          Subepithelial collagen_0  \\\n",
       "variable                                           value                             \n",
       "Basal histiocytic cells                            0                           1.0   \n",
       "                                                   1                           1.0   \n",
       "Increased lamina propria cellularity?              0                           1.0   \n",
       "                                                   1                           1.0   \n",
       "Increased lymphoid aggregates in lamina propria?   0                           1.0   \n",
       "                                                   1                           1.0   \n",
       "Intraepithelial lymphocytes                        0                           1.0   \n",
       "                                                   1                           1.0   \n",
       "Lamina propria granulomas                          0                           1.0   \n",
       "                                                   1                           1.0   \n",
       "Marked & transmucosal increase in lamina propri... 0                           1.0   \n",
       "                                                   1                           1.0   \n",
       "Mild & superficial increase in lamina propria c... 0                           1.0   \n",
       "                                                   1                           1.0   \n",
       "Patchy lamina propria cellularity?                 0                           1.0   \n",
       "                                                   1                           1.0   \n",
       "Sex                                                0                           1.0   \n",
       "                                                   1                           1.0   \n",
       "Subepithelial collagen                             0                           1.0   \n",
       "Submucosal granulomas                              0                           1.0   \n",
       "                                                   1                           1.0   \n",
       "\n",
       "                                                          Submucosal granulomas_0  \\\n",
       "variable                                           value                            \n",
       "Basal histiocytic cells                            0                     0.992322   \n",
       "                                                   1                     1.000000   \n",
       "Increased lamina propria cellularity?              0                     1.000000   \n",
       "                                                   1                     0.987654   \n",
       "Increased lymphoid aggregates in lamina propria?   0                     0.991170   \n",
       "                                                   1                     1.000000   \n",
       "Intraepithelial lymphocytes                        0                     0.992509   \n",
       "                                                   1                     1.000000   \n",
       "Lamina propria granulomas                          0                     0.998102   \n",
       "                                                   1                     0.769231   \n",
       "Marked & transmucosal increase in lamina propri... 0                     0.989744   \n",
       "                                                   1                     1.000000   \n",
       "Mild & superficial increase in lamina propria c... 0                     0.992565   \n",
       "                                                   1                     1.000000   \n",
       "Patchy lamina propria cellularity?                 0                     1.000000   \n",
       "                                                   1                     0.954023   \n",
       "Sex                                                0                     0.989209   \n",
       "                                                   1                     0.996183   \n",
       "Subepithelial collagen                             0                     0.992593   \n",
       "Submucosal granulomas                              0                     1.000000   \n",
       "                                                   1                     0.000000   \n",
       "\n",
       "                                                          Submucosal granulomas_1  \n",
       "variable                                           value                           \n",
       "Basal histiocytic cells                            0                     0.007678  \n",
       "                                                   1                     0.000000  \n",
       "Increased lamina propria cellularity?              0                     0.000000  \n",
       "                                                   1                     0.012346  \n",
       "Increased lymphoid aggregates in lamina propria?   0                     0.008830  \n",
       "                                                   1                     0.000000  \n",
       "Intraepithelial lymphocytes                        0                     0.007491  \n",
       "                                                   1                     0.000000  \n",
       "Lamina propria granulomas                          0                     0.001898  \n",
       "                                                   1                     0.230769  \n",
       "Marked & transmucosal increase in lamina propri... 0                     0.010256  \n",
       "                                                   1                     0.000000  \n",
       "Mild & superficial increase in lamina propria c... 0                     0.007435  \n",
       "                                                   1                     0.000000  \n",
       "Patchy lamina propria cellularity?                 0                     0.000000  \n",
       "                                                   1                     0.045977  \n",
       "Sex                                                0                     0.010791  \n",
       "                                                   1                     0.003817  \n",
       "Subepithelial collagen                             0                     0.007407  \n",
       "Submucosal granulomas                              0                     0.000000  \n",
       "                                                   1                     1.000000  \n",
       "\n",
       "[21 rows x 21 columns]"
      ]
     },
     "execution_count": 26,
     "metadata": {},
     "output_type": "execute_result"
    }
   ],
   "source": [
    "ct"
   ]
  },
  {
   "cell_type": "markdown",
   "metadata": {},
   "source": [
    "Which feature is most correlated with the other features? <br><br>\n",
    "Observe that \"Increased lamina propria cellularity\" and \"Active Inflammation\" are the columns that is most correlated with the other symptoms."
   ]
  },
  {
   "cell_type": "markdown",
   "metadata": {},
   "source": [
    "noExposureDf: Get all the risks of getting Symptom B given that you dont have symptom A.<br>\n",
    "exposureDf:   Get all the risks of getting Symptom B given that you do have symptom A."
   ]
  },
  {
   "cell_type": "code",
   "execution_count": 27,
   "metadata": {},
   "outputs": [],
   "source": [
    "crossTab     = ct.reset_index()\n",
    "noExposureDf = crossTab.loc[crossTab['value']=='0']\n",
    "exposureDf   = crossTab.loc[crossTab['value']=='1']"
   ]
  },
  {
   "cell_type": "markdown",
   "metadata": {},
   "source": [
    "Divide all the risk-given-exposure/ risk-given-no-exposure to get the relative risk for every symptom pair"
   ]
  },
  {
   "cell_type": "code",
   "execution_count": 28,
   "metadata": {},
   "outputs": [
    {
     "data": {
      "text/html": [
       "<div>\n",
       "<style scoped>\n",
       "    .dataframe tbody tr th:only-of-type {\n",
       "        vertical-align: middle;\n",
       "    }\n",
       "\n",
       "    .dataframe tbody tr th {\n",
       "        vertical-align: top;\n",
       "    }\n",
       "\n",
       "    .dataframe thead th {\n",
       "        text-align: right;\n",
       "    }\n",
       "</style>\n",
       "<table border=\"1\" class=\"dataframe\">\n",
       "  <thead>\n",
       "    <tr style=\"text-align: right;\">\n",
       "      <th></th>\n",
       "      <th>Basal histiocytic cells_0</th>\n",
       "      <th>Basal histiocytic cells_1</th>\n",
       "      <th>Increased lamina propria cellularity?_0</th>\n",
       "      <th>Increased lamina propria cellularity?_1</th>\n",
       "      <th>Increased lymphoid aggregates in lamina propria?_0</th>\n",
       "      <th>Increased lymphoid aggregates in lamina propria?_1</th>\n",
       "      <th>Intraepithelial lymphocytes_0</th>\n",
       "      <th>Intraepithelial lymphocytes_1</th>\n",
       "      <th>Lamina propria granulomas_0</th>\n",
       "      <th>Lamina propria granulomas_1</th>\n",
       "      <th>...</th>\n",
       "      <th>Marked &amp; transmucosal increase in lamina propria cellularity_1</th>\n",
       "      <th>Mild &amp; superficial increase in lamina propria cellularity?_0</th>\n",
       "      <th>Mild &amp; superficial increase in lamina propria cellularity?_1</th>\n",
       "      <th>Patchy lamina propria cellularity?_0</th>\n",
       "      <th>Patchy lamina propria cellularity?_1</th>\n",
       "      <th>Sex_0</th>\n",
       "      <th>Sex_1</th>\n",
       "      <th>Subepithelial collagen_0</th>\n",
       "      <th>Submucosal granulomas_0</th>\n",
       "      <th>Submucosal granulomas_1</th>\n",
       "    </tr>\n",
       "    <tr>\n",
       "      <th>variable</th>\n",
       "      <th></th>\n",
       "      <th></th>\n",
       "      <th></th>\n",
       "      <th></th>\n",
       "      <th></th>\n",
       "      <th></th>\n",
       "      <th></th>\n",
       "      <th></th>\n",
       "      <th></th>\n",
       "      <th></th>\n",
       "      <th></th>\n",
       "      <th></th>\n",
       "      <th></th>\n",
       "      <th></th>\n",
       "      <th></th>\n",
       "      <th></th>\n",
       "      <th></th>\n",
       "      <th></th>\n",
       "      <th></th>\n",
       "      <th></th>\n",
       "      <th></th>\n",
       "    </tr>\n",
       "  </thead>\n",
       "  <tbody>\n",
       "    <tr>\n",
       "      <th>Basal histiocytic cells</th>\n",
       "      <td>0.000000</td>\n",
       "      <td>inf</td>\n",
       "      <td>0.256272</td>\n",
       "      <td>1.518430</td>\n",
       "      <td>1.003974</td>\n",
       "      <td>0.979323</td>\n",
       "      <td>1.011650</td>\n",
       "      <td>0.000000</td>\n",
       "      <td>0.969703</td>\n",
       "      <td>2.285088</td>\n",
       "      <td>...</td>\n",
       "      <td>1.544848</td>\n",
       "      <td>1.003854</td>\n",
       "      <td>0.0</td>\n",
       "      <td>0.810167</td>\n",
       "      <td>2.031189</td>\n",
       "      <td>1.345184</td>\n",
       "      <td>0.642681</td>\n",
       "      <td>1.0</td>\n",
       "      <td>1.007737</td>\n",
       "      <td>0.000000</td>\n",
       "    </tr>\n",
       "    <tr>\n",
       "      <th>Increased lamina propria cellularity?</th>\n",
       "      <td>0.956386</td>\n",
       "      <td>5.666667</td>\n",
       "      <td>0.000000</td>\n",
       "      <td>inf</td>\n",
       "      <td>0.731481</td>\n",
       "      <td>inf</td>\n",
       "      <td>0.989147</td>\n",
       "      <td>3.333333</td>\n",
       "      <td>0.967442</td>\n",
       "      <td>8.000000</td>\n",
       "      <td>...</td>\n",
       "      <td>inf</td>\n",
       "      <td>0.993827</td>\n",
       "      <td>inf</td>\n",
       "      <td>0.731481</td>\n",
       "      <td>inf</td>\n",
       "      <td>1.186667</td>\n",
       "      <td>0.839080</td>\n",
       "      <td>1.0</td>\n",
       "      <td>0.987654</td>\n",
       "      <td>inf</td>\n",
       "    </tr>\n",
       "    <tr>\n",
       "      <th>Increased lymphoid aggregates in lamina propria?</th>\n",
       "      <td>1.000868</td>\n",
       "      <td>0.976293</td>\n",
       "      <td>0.000000</td>\n",
       "      <td>1.911392</td>\n",
       "      <td>0.000000</td>\n",
       "      <td>inf</td>\n",
       "      <td>0.999538</td>\n",
       "      <td>1.041379</td>\n",
       "      <td>1.029545</td>\n",
       "      <td>0.000000</td>\n",
       "      <td>...</td>\n",
       "      <td>0.000000</td>\n",
       "      <td>1.004435</td>\n",
       "      <td>0.0</td>\n",
       "      <td>1.202680</td>\n",
       "      <td>0.122515</td>\n",
       "      <td>1.059412</td>\n",
       "      <td>0.938180</td>\n",
       "      <td>1.0</td>\n",
       "      <td>1.008909</td>\n",
       "      <td>0.000000</td>\n",
       "    </tr>\n",
       "    <tr>\n",
       "      <th>Intraepithelial lymphocytes</th>\n",
       "      <td>1.036893</td>\n",
       "      <td>0.000000</td>\n",
       "      <td>0.413953</td>\n",
       "      <td>1.394984</td>\n",
       "      <td>0.993304</td>\n",
       "      <td>1.034884</td>\n",
       "      <td>0.000000</td>\n",
       "      <td>inf</td>\n",
       "      <td>0.852490</td>\n",
       "      <td>7.416667</td>\n",
       "      <td>...</td>\n",
       "      <td>1.202703</td>\n",
       "      <td>1.003759</td>\n",
       "      <td>0.0</td>\n",
       "      <td>0.792873</td>\n",
       "      <td>2.094118</td>\n",
       "      <td>0.644928</td>\n",
       "      <td>1.379845</td>\n",
       "      <td>1.0</td>\n",
       "      <td>1.007547</td>\n",
       "      <td>0.000000</td>\n",
       "    </tr>\n",
       "    <tr>\n",
       "      <th>Lamina propria granulomas</th>\n",
       "      <td>0.955720</td>\n",
       "      <td>2.252137</td>\n",
       "      <td>0.188551</td>\n",
       "      <td>1.559172</td>\n",
       "      <td>1.197727</td>\n",
       "      <td>0.000000</td>\n",
       "      <td>0.931919</td>\n",
       "      <td>8.107692</td>\n",
       "      <td>0.000000</td>\n",
       "      <td>inf</td>\n",
       "      <td>...</td>\n",
       "      <td>0.000000</td>\n",
       "      <td>1.003810</td>\n",
       "      <td>0.0</td>\n",
       "      <td>0.089687</td>\n",
       "      <td>6.486154</td>\n",
       "      <td>1.356305</td>\n",
       "      <td>0.628503</td>\n",
       "      <td>1.0</td>\n",
       "      <td>0.770693</td>\n",
       "      <td>121.615385</td>\n",
       "    </tr>\n",
       "  </tbody>\n",
       "</table>\n",
       "<p>5 rows × 21 columns</p>\n",
       "</div>"
      ],
      "text/plain": [
       "                                                  Basal histiocytic cells_0  \\\n",
       "variable                                                                      \n",
       "Basal histiocytic cells                                            0.000000   \n",
       "Increased lamina propria cellularity?                              0.956386   \n",
       "Increased lymphoid aggregates in lamina propria?                   1.000868   \n",
       "Intraepithelial lymphocytes                                        1.036893   \n",
       "Lamina propria granulomas                                          0.955720   \n",
       "\n",
       "                                                  Basal histiocytic cells_1  \\\n",
       "variable                                                                      \n",
       "Basal histiocytic cells                                                 inf   \n",
       "Increased lamina propria cellularity?                              5.666667   \n",
       "Increased lymphoid aggregates in lamina propria?                   0.976293   \n",
       "Intraepithelial lymphocytes                                        0.000000   \n",
       "Lamina propria granulomas                                          2.252137   \n",
       "\n",
       "                                                  Increased lamina propria cellularity?_0  \\\n",
       "variable                                                                                    \n",
       "Basal histiocytic cells                                                          0.256272   \n",
       "Increased lamina propria cellularity?                                            0.000000   \n",
       "Increased lymphoid aggregates in lamina propria?                                 0.000000   \n",
       "Intraepithelial lymphocytes                                                      0.413953   \n",
       "Lamina propria granulomas                                                        0.188551   \n",
       "\n",
       "                                                  Increased lamina propria cellularity?_1  \\\n",
       "variable                                                                                    \n",
       "Basal histiocytic cells                                                          1.518430   \n",
       "Increased lamina propria cellularity?                                                 inf   \n",
       "Increased lymphoid aggregates in lamina propria?                                 1.911392   \n",
       "Intraepithelial lymphocytes                                                      1.394984   \n",
       "Lamina propria granulomas                                                        1.559172   \n",
       "\n",
       "                                                  Increased lymphoid aggregates in lamina propria?_0  \\\n",
       "variable                                                                                               \n",
       "Basal histiocytic cells                                                                    1.003974    \n",
       "Increased lamina propria cellularity?                                                      0.731481    \n",
       "Increased lymphoid aggregates in lamina propria?                                           0.000000    \n",
       "Intraepithelial lymphocytes                                                                0.993304    \n",
       "Lamina propria granulomas                                                                  1.197727    \n",
       "\n",
       "                                                  Increased lymphoid aggregates in lamina propria?_1  \\\n",
       "variable                                                                                               \n",
       "Basal histiocytic cells                                                                    0.979323    \n",
       "Increased lamina propria cellularity?                                                           inf    \n",
       "Increased lymphoid aggregates in lamina propria?                                                inf    \n",
       "Intraepithelial lymphocytes                                                                1.034884    \n",
       "Lamina propria granulomas                                                                  0.000000    \n",
       "\n",
       "                                                  Intraepithelial lymphocytes_0  \\\n",
       "variable                                                                          \n",
       "Basal histiocytic cells                                                1.011650   \n",
       "Increased lamina propria cellularity?                                  0.989147   \n",
       "Increased lymphoid aggregates in lamina propria?                       0.999538   \n",
       "Intraepithelial lymphocytes                                            0.000000   \n",
       "Lamina propria granulomas                                              0.931919   \n",
       "\n",
       "                                                  Intraepithelial lymphocytes_1  \\\n",
       "variable                                                                          \n",
       "Basal histiocytic cells                                                0.000000   \n",
       "Increased lamina propria cellularity?                                  3.333333   \n",
       "Increased lymphoid aggregates in lamina propria?                       1.041379   \n",
       "Intraepithelial lymphocytes                                                 inf   \n",
       "Lamina propria granulomas                                              8.107692   \n",
       "\n",
       "                                                  Lamina propria granulomas_0  \\\n",
       "variable                                                                        \n",
       "Basal histiocytic cells                                              0.969703   \n",
       "Increased lamina propria cellularity?                                0.967442   \n",
       "Increased lymphoid aggregates in lamina propria?                     1.029545   \n",
       "Intraepithelial lymphocytes                                          0.852490   \n",
       "Lamina propria granulomas                                            0.000000   \n",
       "\n",
       "                                                  Lamina propria granulomas_1  \\\n",
       "variable                                                                        \n",
       "Basal histiocytic cells                                              2.285088   \n",
       "Increased lamina propria cellularity?                                8.000000   \n",
       "Increased lymphoid aggregates in lamina propria?                     0.000000   \n",
       "Intraepithelial lymphocytes                                          7.416667   \n",
       "Lamina propria granulomas                                                 inf   \n",
       "\n",
       "                                                  ...  \\\n",
       "variable                                          ...   \n",
       "Basal histiocytic cells                           ...   \n",
       "Increased lamina propria cellularity?             ...   \n",
       "Increased lymphoid aggregates in lamina propria?  ...   \n",
       "Intraepithelial lymphocytes                       ...   \n",
       "Lamina propria granulomas                         ...   \n",
       "\n",
       "                                                  Marked & transmucosal increase in lamina propria cellularity_1  \\\n",
       "variable                                                                                                           \n",
       "Basal histiocytic cells                                                                    1.544848                \n",
       "Increased lamina propria cellularity?                                                           inf                \n",
       "Increased lymphoid aggregates in lamina propria?                                           0.000000                \n",
       "Intraepithelial lymphocytes                                                                1.202703                \n",
       "Lamina propria granulomas                                                                  0.000000                \n",
       "\n",
       "                                                  Mild & superficial increase in lamina propria cellularity?_0  \\\n",
       "variable                                                                                                         \n",
       "Basal histiocytic cells                                                                    1.003854              \n",
       "Increased lamina propria cellularity?                                                      0.993827              \n",
       "Increased lymphoid aggregates in lamina propria?                                           1.004435              \n",
       "Intraepithelial lymphocytes                                                                1.003759              \n",
       "Lamina propria granulomas                                                                  1.003810              \n",
       "\n",
       "                                                  Mild & superficial increase in lamina propria cellularity?_1  \\\n",
       "variable                                                                                                         \n",
       "Basal histiocytic cells                                                                         0.0              \n",
       "Increased lamina propria cellularity?                                                           inf              \n",
       "Increased lymphoid aggregates in lamina propria?                                                0.0              \n",
       "Intraepithelial lymphocytes                                                                     0.0              \n",
       "Lamina propria granulomas                                                                       0.0              \n",
       "\n",
       "                                                  Patchy lamina propria cellularity?_0  \\\n",
       "variable                                                                                 \n",
       "Basal histiocytic cells                                                       0.810167   \n",
       "Increased lamina propria cellularity?                                         0.731481   \n",
       "Increased lymphoid aggregates in lamina propria?                              1.202680   \n",
       "Intraepithelial lymphocytes                                                   0.792873   \n",
       "Lamina propria granulomas                                                     0.089687   \n",
       "\n",
       "                                                  Patchy lamina propria cellularity?_1  \\\n",
       "variable                                                                                 \n",
       "Basal histiocytic cells                                                       2.031189   \n",
       "Increased lamina propria cellularity?                                              inf   \n",
       "Increased lymphoid aggregates in lamina propria?                              0.122515   \n",
       "Intraepithelial lymphocytes                                                   2.094118   \n",
       "Lamina propria granulomas                                                     6.486154   \n",
       "\n",
       "                                                     Sex_0     Sex_1  \\\n",
       "variable                                                               \n",
       "Basal histiocytic cells                           1.345184  0.642681   \n",
       "Increased lamina propria cellularity?             1.186667  0.839080   \n",
       "Increased lymphoid aggregates in lamina propria?  1.059412  0.938180   \n",
       "Intraepithelial lymphocytes                       0.644928  1.379845   \n",
       "Lamina propria granulomas                         1.356305  0.628503   \n",
       "\n",
       "                                                  Subepithelial collagen_0  \\\n",
       "variable                                                                     \n",
       "Basal histiocytic cells                                                1.0   \n",
       "Increased lamina propria cellularity?                                  1.0   \n",
       "Increased lymphoid aggregates in lamina propria?                       1.0   \n",
       "Intraepithelial lymphocytes                                            1.0   \n",
       "Lamina propria granulomas                                              1.0   \n",
       "\n",
       "                                                  Submucosal granulomas_0  \\\n",
       "variable                                                                    \n",
       "Basal histiocytic cells                                          1.007737   \n",
       "Increased lamina propria cellularity?                            0.987654   \n",
       "Increased lymphoid aggregates in lamina propria?                 1.008909   \n",
       "Intraepithelial lymphocytes                                      1.007547   \n",
       "Lamina propria granulomas                                        0.770693   \n",
       "\n",
       "                                                  Submucosal granulomas_1  \n",
       "variable                                                                   \n",
       "Basal histiocytic cells                                          0.000000  \n",
       "Increased lamina propria cellularity?                                 inf  \n",
       "Increased lymphoid aggregates in lamina propria?                 0.000000  \n",
       "Intraepithelial lymphocytes                                      0.000000  \n",
       "Lamina propria granulomas                                      121.615385  \n",
       "\n",
       "[5 rows x 21 columns]"
      ]
     },
     "execution_count": 28,
     "metadata": {},
     "output_type": "execute_result"
    }
   ],
   "source": [
    "noExposureDf = noExposureDf.set_index('variable').drop('value',axis=1)\n",
    "exposureDf   = exposureDf.set_index('variable').drop('value',axis=1)\n",
    "relativeRisks= exposureDf/noExposureDf\n",
    "relativeRisks.head()"
   ]
  },
  {
   "cell_type": "markdown",
   "metadata": {},
   "source": [
    "The relative risk from our risk matrix is the same as the one when we manually calculated it. 1.559171"
   ]
  },
  {
   "cell_type": "code",
   "execution_count": 29,
   "metadata": {},
   "outputs": [
    {
     "data": {
      "text/plain": [
       "1.5591715976331362"
      ]
     },
     "execution_count": 29,
     "metadata": {},
     "output_type": "execute_result"
    }
   ],
   "source": [
    "relativeRisks.loc['Lamina propria granulomas','Increased lamina propria cellularity?_1' ]"
   ]
  },
  {
   "cell_type": "markdown",
   "metadata": {},
   "source": [
    "Replace infinity values or abnormally high Relative risks with 0"
   ]
  },
  {
   "cell_type": "code",
   "execution_count": 30,
   "metadata": {},
   "outputs": [],
   "source": [
    "relativeRisks = relativeRisks.applymap(lambda cell:0 if cell>20 else cell)"
   ]
  },
  {
   "cell_type": "markdown",
   "metadata": {},
   "source": [
    "Observe in heatmap below that Submucosal granulomas are highly correlated with lamina propria granulomas"
   ]
  },
  {
   "cell_type": "code",
   "execution_count": 31,
   "metadata": {},
   "outputs": [
    {
     "data": {
      "text/plain": [
       "<AxesSubplot:ylabel='variable'>"
      ]
     },
     "execution_count": 31,
     "metadata": {},
     "output_type": "execute_result"
    },
    {
     "data": {
      "image/png": "[encoded data removed]",
      "text/plain": [
       "<Figure size 432x288 with 2 Axes>"
      ]
     },
     "metadata": {
      "needs_background": "light"
     },
     "output_type": "display_data"
    }
   ],
   "source": [
    "symptomPresent = [column for column in ct.columns if '1' in column]\n",
    "sns.heatmap(relativeRisks[symptomPresent])"
   ]
  },
  {
   "cell_type": "markdown",
   "metadata": {},
   "source": [
    "Out of the 453 patients that did not have patchy lamina propria cellularity none of those patients also had lamina propria granulomas.<br>\n",
    "However, out of the 87 patients that had patchy laminap propria cellularity, 4 of those patients also had lamina propria granulomas.<br>\n",
    "It looks like these 2 columns are correlated."
   ]
  },
  {
   "cell_type": "code",
   "execution_count": 32,
   "metadata": {},
   "outputs": [
    {
     "data": {
      "text/plain": [
       "Patchy lamina propria cellularity?  Submucosal granulomas\n",
       "0                                   0                        453\n",
       "1                                   0                         83\n",
       "                                    1                          4\n",
       "dtype: int64"
      ]
     },
     "execution_count": 32,
     "metadata": {},
     "output_type": "execute_result"
    }
   ],
   "source": [
    "X_train.groupby(['Patchy lamina propria cellularity?','Submucosal granulomas']).size()"
   ]
  },
  {
   "cell_type": "markdown",
   "metadata": {},
   "source": [
    "Out of the 453 patients that did not have patchy lamina propria cellularity only 1 of those patients also had lamina propria granulomas.<br>\n",
    "However, out of the 87 patients that had patchy laminap propria cellularity, 12 of those patients also had lamina propria granulomas.<br>\n",
    "It looks like these 2 columns are correlated."
   ]
  },
  {
   "cell_type": "code",
   "execution_count": 33,
   "metadata": {
    "scrolled": true
   },
   "outputs": [
    {
     "data": {
      "text/plain": [
       "Patchy lamina propria cellularity?  Lamina propria granulomas\n",
       "0                                   0                            452\n",
       "                                    1                              1\n",
       "1                                   0                             75\n",
       "                                    1                             12\n",
       "dtype: int64"
      ]
     },
     "execution_count": 33,
     "metadata": {},
     "output_type": "execute_result"
    }
   ],
   "source": [
    "X_train.groupby(['Patchy lamina propria cellularity?','Lamina propria granulomas']).size()"
   ]
  },
  {
   "cell_type": "markdown",
   "metadata": {},
   "source": [
    "You have two people, one with increased lamina propria cellularity and the other one without increased lamina propria cellularity.  How much more likely is the first person to have Crohn's disease compared to the second?"
   ]
  },
  {
   "cell_type": "code",
   "execution_count": 34,
   "metadata": {},
   "outputs": [
    {
     "data": {
      "text/plain": [
       "Submucosal granulomas  Confirmed diagnosis\n",
       "0                      CROHNS                 113\n",
       "                       NORMAL                 118\n",
       "                       UC                     305\n",
       "1                      CROHNS                   4\n",
       "dtype: int64"
      ]
     },
     "execution_count": 34,
     "metadata": {},
     "output_type": "execute_result"
    }
   ],
   "source": [
    "train.groupby(['Submucosal granulomas','Confirmed diagnosis']).size()"
   ]
  },
  {
   "cell_type": "markdown",
   "metadata": {},
   "source": [
    "### Model Assumptions"
   ]
  },
  {
   "cell_type": "code",
   "execution_count": null,
   "metadata": {},
   "outputs": [],
   "source": []
  },
  {
   "cell_type": "code",
   "execution_count": null,
   "metadata": {},
   "outputs": [],
   "source": []
  },
  {
   "cell_type": "code",
   "execution_count": null,
   "metadata": {},
   "outputs": [],
   "source": []
  },
  {
   "cell_type": "code",
   "execution_count": null,
   "metadata": {},
   "outputs": [],
   "source": []
  },
  {
   "cell_type": "code",
   "execution_count": null,
   "metadata": {},
   "outputs": [],
   "source": []
  },
  {
   "cell_type": "markdown",
   "metadata": {},
   "source": [
    "### ETL PipeLine"
   ]
  },
  {
   "cell_type": "code",
   "execution_count": null,
   "metadata": {},
   "outputs": [],
   "source": []
  },
  {
   "cell_type": "code",
   "execution_count": null,
   "metadata": {},
   "outputs": [],
   "source": []
  },
  {
   "cell_type": "code",
   "execution_count": null,
   "metadata": {},
   "outputs": [],
   "source": []
  },
  {
   "cell_type": "code",
   "execution_count": null,
   "metadata": {},
   "outputs": [],
   "source": []
  },
  {
   "cell_type": "code",
   "execution_count": null,
   "metadata": {},
   "outputs": [],
   "source": []
  },
  {
   "cell_type": "code",
   "execution_count": null,
   "metadata": {},
   "outputs": [],
   "source": []
  },
  {
   "cell_type": "markdown",
   "metadata": {},
   "source": [
    "## Machine Learning Models\n",
    "---"
   ]
  },
  {
   "cell_type": "markdown",
   "metadata": {},
   "source": [
    "### Parameter Tuning"
   ]
  },
  {
   "cell_type": "code",
   "execution_count": null,
   "metadata": {},
   "outputs": [],
   "source": []
  },
  {
   "cell_type": "code",
   "execution_count": null,
   "metadata": {},
   "outputs": [],
   "source": []
  },
  {
   "cell_type": "code",
   "execution_count": null,
   "metadata": {},
   "outputs": [],
   "source": []
  },
  {
   "cell_type": "code",
   "execution_count": null,
   "metadata": {},
   "outputs": [],
   "source": []
  },
  {
   "cell_type": "code",
   "execution_count": null,
   "metadata": {},
   "outputs": [],
   "source": []
  },
  {
   "cell_type": "code",
   "execution_count": null,
   "metadata": {},
   "outputs": [],
   "source": []
  },
  {
   "cell_type": "markdown",
   "metadata": {},
   "source": [
    "### Creation of novel ML Models"
   ]
  },
  {
   "cell_type": "code",
   "execution_count": null,
   "metadata": {},
   "outputs": [],
   "source": []
  },
  {
   "cell_type": "code",
   "execution_count": null,
   "metadata": {},
   "outputs": [],
   "source": []
  },
  {
   "cell_type": "code",
   "execution_count": null,
   "metadata": {},
   "outputs": [],
   "source": []
  },
  {
   "cell_type": "code",
   "execution_count": null,
   "metadata": {},
   "outputs": [],
   "source": []
  },
  {
   "cell_type": "code",
   "execution_count": null,
   "metadata": {},
   "outputs": [],
   "source": []
  },
  {
   "cell_type": "markdown",
   "metadata": {},
   "source": [
    "### Running Models"
   ]
  },
  {
   "cell_type": "code",
   "execution_count": null,
   "metadata": {},
   "outputs": [],
   "source": []
  },
  {
   "cell_type": "code",
   "execution_count": null,
   "metadata": {},
   "outputs": [],
   "source": []
  },
  {
   "cell_type": "code",
   "execution_count": null,
   "metadata": {},
   "outputs": [],
   "source": []
  },
  {
   "cell_type": "code",
   "execution_count": null,
   "metadata": {},
   "outputs": [],
   "source": []
  },
  {
   "cell_type": "markdown",
   "metadata": {},
   "source": [
    "## Results/Discussion\n",
    "---"
   ]
  },
  {
   "cell_type": "markdown",
   "metadata": {},
   "source": [
    "### Results"
   ]
  },
  {
   "cell_type": "code",
   "execution_count": null,
   "metadata": {},
   "outputs": [],
   "source": []
  },
  {
   "cell_type": "code",
   "execution_count": null,
   "metadata": {},
   "outputs": [],
   "source": []
  },
  {
   "cell_type": "code",
   "execution_count": null,
   "metadata": {},
   "outputs": [],
   "source": []
  },
  {
   "cell_type": "code",
   "execution_count": null,
   "metadata": {},
   "outputs": [],
   "source": []
  },
  {
   "cell_type": "code",
   "execution_count": null,
   "metadata": {},
   "outputs": [],
   "source": []
  },
  {
   "cell_type": "markdown",
   "metadata": {},
   "source": [
    "### Statistics"
   ]
  },
  {
   "cell_type": "code",
   "execution_count": null,
   "metadata": {},
   "outputs": [],
   "source": []
  },
  {
   "cell_type": "code",
   "execution_count": null,
   "metadata": {},
   "outputs": [],
   "source": []
  },
  {
   "cell_type": "code",
   "execution_count": null,
   "metadata": {},
   "outputs": [],
   "source": []
  },
  {
   "cell_type": "code",
   "execution_count": null,
   "metadata": {},
   "outputs": [],
   "source": []
  },
  {
   "cell_type": "code",
   "execution_count": null,
   "metadata": {},
   "outputs": [],
   "source": []
  },
  {
   "cell_type": "markdown",
   "metadata": {},
   "source": [
    "### Visualizations"
   ]
  },
  {
   "cell_type": "code",
   "execution_count": null,
   "metadata": {},
   "outputs": [],
   "source": []
  },
  {
   "cell_type": "code",
   "execution_count": null,
   "metadata": {},
   "outputs": [],
   "source": []
  },
  {
   "cell_type": "code",
   "execution_count": null,
   "metadata": {},
   "outputs": [],
   "source": []
  },
  {
   "cell_type": "code",
   "execution_count": null,
   "metadata": {},
   "outputs": [],
   "source": []
  },
  {
   "cell_type": "code",
   "execution_count": null,
   "metadata": {},
   "outputs": [],
   "source": []
  },
  {
   "cell_type": "markdown",
   "metadata": {},
   "source": [
    "### Discussion"
   ]
  },
  {
   "cell_type": "code",
   "execution_count": null,
   "metadata": {},
   "outputs": [],
   "source": []
  },
  {
   "cell_type": "code",
   "execution_count": null,
   "metadata": {},
   "outputs": [],
   "source": []
  },
  {
   "cell_type": "code",
   "execution_count": null,
   "metadata": {},
   "outputs": [],
   "source": []
  },
  {
   "cell_type": "code",
   "execution_count": null,
   "metadata": {},
   "outputs": [],
   "source": []
  },
  {
   "cell_type": "code",
   "execution_count": null,
   "metadata": {},
   "outputs": [],
   "source": []
  },
  {
   "cell_type": "code",
   "execution_count": null,
   "metadata": {},
   "outputs": [],
   "source": []
  },
  {
   "cell_type": "markdown",
   "metadata": {},
   "source": [
    "### Conclusions"
   ]
  },
  {
   "cell_type": "code",
   "execution_count": null,
   "metadata": {},
   "outputs": [],
   "source": []
  },
  {
   "cell_type": "code",
   "execution_count": null,
   "metadata": {},
   "outputs": [],
   "source": []
  },
  {
   "cell_type": "code",
   "execution_count": null,
   "metadata": {},
   "outputs": [],
   "source": []
  },
  {
   "cell_type": "code",
   "execution_count": null,
   "metadata": {},
   "outputs": [],
   "source": []
  },
  {
   "cell_type": "code",
   "execution_count": null,
   "metadata": {},
   "outputs": [],
   "source": []
  },
  {
   "cell_type": "code",
   "execution_count": null,
   "metadata": {},
   "outputs": [],
   "source": []
  }
 ],
 "metadata": {
  "kernelspec": {
   "display_name": "ML7331",
   "language": "python",
   "name": "ml7331"
  },
  "language_info": {
   "codemirror_mode": {
    "name": "ipython",
    "version": 3
   },
   "file_extension": ".py",
   "mimetype": "text/x-python",
   "name": "python",
   "nbconvert_exporter": "python",
   "pygments_lexer": "ipython3",
   "version": "3.8.5"
  }
 },
 "nbformat": 4,
 "nbformat_minor": 2
}
